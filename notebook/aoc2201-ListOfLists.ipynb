{
  "cells": [
    {
      "cell_type": "markdown",
      "metadata": {},
      "source": [
        "# Advent of Code 2022\n",
        "## Day 1 - Calories"
      ]
    },
    {
      "cell_type": "code",
      "execution_count": 11,
      "metadata": {
        "trusted": true,
        "vscode": {
          "languageId": "python"
        }
      },
      "outputs": [],
      "source": [
        "import functools\n",
        "\n",
        "with open('../data/aoc2201.txt') as file:\n",
        "    inputs = [ line.strip() for line in file ]\n",
        "\n",
        "def sumIfInt(acc, value):\n",
        "    if value.isnumeric():\n",
        "        return (acc[0], acc[1] + int(value))\n",
        "    else:\n",
        "        acc[0].append(acc[1])\n",
        "        return (acc[0],0)\n",
        "\n",
        "def caloriesByElf(inputs):\n",
        "    calories, _ = functools.reduce(sumIfInt, inputs, ([],0))\n",
        "    return calories\n",
        "    \n",
        "calories = caloriesByElf(inputs)\n",
        "calories.sort(reverse=True)"
      ]
    },
    {
      "cell_type": "markdown",
      "metadata": {},
      "source": [
        "### Part 1\n",
        "\n",
        "The Elves take turns writing down the number of Calories contained by the various meals, snacks, rations, etc. that they've brought with them, one item per line. Each Elf separates their own inventory from the previous Elf's inventory (if any) by a blank line.\n",
        "Find the Elf carrying the most Calories. How many total Calories is that Elf carrying?"
      ]
    },
    {
      "cell_type": "code",
      "execution_count": 12,
      "metadata": {
        "trusted": true,
        "vscode": {
          "languageId": "python"
        }
      },
      "outputs": [
        {
          "data": {
            "text/plain": [
              "71023"
            ]
          },
          "execution_count": 12,
          "metadata": {},
          "output_type": "execute_result"
        }
      ],
      "source": [
        "calories[0]"
      ]
    },
    {
      "cell_type": "markdown",
      "metadata": {},
      "source": [
        "### Part 2\n",
        "\n",
        "Find the top three Elves carrying the most Calories. How many Calories are those Elves carrying in total?"
      ]
    },
    {
      "cell_type": "code",
      "execution_count": 13,
      "metadata": {
        "trusted": true,
        "vscode": {
          "languageId": "python"
        }
      },
      "outputs": [
        {
          "data": {
            "text/plain": [
              "206289"
            ]
          },
          "execution_count": 13,
          "metadata": {},
          "output_type": "execute_result"
        }
      ],
      "source": [
        "sum(calories[0:3])"
      ]
    }
  ],
  "metadata": {
    "kernelspec": {
      "display_name": "Python 3 (ipykernel)",
      "language": "python",
      "name": "python3"
    }
  },
  "nbformat": 4,
  "nbformat_minor": 4
}
