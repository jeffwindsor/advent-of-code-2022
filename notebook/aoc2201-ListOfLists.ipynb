{
  "cells": [
    {
      "cell_type": "markdown",
      "metadata": {},
      "source": [
        "# Advent of Code 2022, Day 1\n",
        "\n",
        "## Part 1\n",
        "\n",
        "The Elves take turns writing down the number of Calories contained by the various meals, snacks, rations, etc. that they've brought with them, one item per line. Each Elf separates their own inventory from the previous Elf's inventory (if any) by a blank line.\n",
        "Find the Elf carrying the most Calories. How many total Calories is that Elf carrying?\n",
        "\n",
        "## Part 2\n",
        "\n",
        "Find the top three Elves carrying the most Calories. How many Calories are those Elves carrying in total?\n",
        "\n",
        "## Proposed Solution\n",
        "\n",
        "- accumulate list of calories per elf\n",
        "- sort elves by calories"
      ]
    },
    {
      "cell_type": "code",
      "execution_count": null,
      "metadata": {
        "trusted": true,
        "vscode": {
          "languageId": "python"
        }
      },
      "outputs": [],
      "source": [
        "import functools\n",
        "\n",
        "def read_data(file):\n",
        "    txt_file = open(f\"../data/{file}\", \"r\")\n",
        "    file_content = txt_file.read()\n",
        "    txt_file.close()\n",
        "    return file_content.split(\"\\n\")\n",
        "\n",
        "def sumIfInt(acc, value):\n",
        "    if value.isnumeric():\n",
        "        # add to current elf's calories\n",
        "        return (acc[0], acc[1] + int(value))\n",
        "    else:\n",
        "        # append elf's calories to list of elfs' calories\n",
        "        acc[0].append(acc[1])\n",
        "        return (acc[0],0)\n",
        "\n",
        "def caloriesByElf(inputs):\n",
        "    calories, _ = functools.reduce(sumIfInt, inputs, ([],0))\n",
        "    return calories\n",
        "    \n",
        "inputs = read_data(\"aoc2201.txt\")\n",
        "calories = caloriesByElf(inputs)\n",
        "calories.sort(reverse=True)"
      ]
    },
    {
      "cell_type": "markdown",
      "metadata": {},
      "source": [
        "### Answer Part 1"
      ]
    },
    {
      "cell_type": "code",
      "execution_count": null,
      "metadata": {
        "trusted": true,
        "vscode": {
          "languageId": "python"
        }
      },
      "outputs": [],
      "source": [
        "calories[0]"
      ]
    },
    {
      "cell_type": "markdown",
      "metadata": {},
      "source": [
        "### Answer Part 2"
      ]
    },
    {
      "cell_type": "code",
      "execution_count": null,
      "metadata": {
        "trusted": true,
        "vscode": {
          "languageId": "python"
        }
      },
      "outputs": [],
      "source": [
        "sum(calories[0:3])"
      ]
    }
  ],
  "metadata": {
    "kernelspec": {
      "display_name": "Python 3 (ipykernel)",
      "language": "python",
      "name": "python3"
    }
  },
  "nbformat": 4,
  "nbformat_minor": 4
}
