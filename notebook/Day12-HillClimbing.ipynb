{
 "cells": [
  {
   "attachments": {},
   "cell_type": "markdown",
   "metadata": {},
   "source": [
    "Advent of Code 2022 Day 12 - [Hill Climbing Algorithm](https://adventofcode.com/2022/day/12)"
   ]
  },
  {
   "cell_type": "code",
   "execution_count": 165,
   "metadata": {},
   "outputs": [
    {
     "name": "stdout",
     "output_type": "stream",
     "text": [
      "Part 1: 361\n",
      "Part 2: 354\n"
     ]
    }
   ],
   "source": [
    "from collections import deque\n",
    "\n",
    "def parse(filename):\n",
    "    lines = [ l.strip() for l in open(filename, 'r').readlines()]\n",
    "    rows, cols = len(lines), len(lines[0])\n",
    "    start_point, end_point = (0,0), (0,0)\n",
    "    for r in range(rows):\n",
    "        for c in range(cols):\n",
    "            if lines[r][c] == 'S': \n",
    "                start_point = (r,c)\n",
    "                lines[r] = lines[r].replace('S','a')\n",
    "            if lines[r][c] == 'E': \n",
    "                end_point = (r,c)\n",
    "                lines[r] = lines[r].replace('E','z') \n",
    "    return [start_point, end_point, rows, cols, lines]\n",
    "\n",
    "actual  = lambda row,col,rows,cols: 0 <= row and row < rows and 0 <= col and col < cols\n",
    "allowed = lambda from_h, to_h: ord(to_h) -  ord(from_h) <= 1\n",
    "\n",
    "def neighbors_from_heights(heights, rows, cols):   \n",
    "    def inner(p):\n",
    "        current = heights[p[0]][p[1]]\n",
    "        cross_points   = [(p[0] + 1, p[1]), (p[0]-1, p[1]), (p[0], p[1] + 1), (p[0], p[1] - 1)]\n",
    "        actual_points  = [(r,c) for r,c in cross_points if actual(r,c,rows,cols)]\n",
    "        allowed_points = [(r,c) for r,c in actual_points if allowed(current, heights[r][c])]\n",
    "        return allowed_points\n",
    "    return inner\n",
    "\n",
    "def dijkstras_shortest_path(neighbors, complete, start_point):\n",
    "    visited,visit_queue = {}, deque()\n",
    "    visit_queue.append((start_point,0))\n",
    "\n",
    "    while len(visit_queue) > 0:\n",
    "        p, steps = visit_queue.pop()\n",
    "        if complete(p): return steps # reached dest\n",
    "        if p in visited and visited[p] <= steps: continue # we found this already\n",
    "        \n",
    "        visited[p] = steps\n",
    "        for np in neighbors(p):\n",
    "            visit_queue.appendleft((np, steps+1))\n",
    "\n",
    "    return 1000000000000\n",
    "\n",
    "def part1(start_point, end, rows, cols, heights):\n",
    "    complete = lambda point: point == end\n",
    "    neighbors = neighbors_from_heights(heights, rows, cols)\n",
    "    return dijkstras_shortest_path(neighbors, complete, start_point)\n",
    "\n",
    "def part2(start_point, end_point, rows, cols, heights):\n",
    "    list_of_as = []\n",
    "    for row in range(rows):\n",
    "        for col in range(cols):\n",
    "            if heights[row][col] == 'a': list_of_as.append((row,col)) \n",
    "\n",
    "    return min([dijkstras_shortest_path(\n",
    "        neighbors_from_heights(heights, rows, cols),\n",
    "        lambda point: point == end_point,\n",
    "        a_point) for a_point in list_of_as])\n",
    "\n",
    "## data #######################################################################\n",
    "examples = parse('../data/Day12-pre.txt')\n",
    "actuals  = parse('../data/Day12.txt')\n",
    "\n",
    "## test #######################################################################\n",
    "start_point, end_point, rows, cols, heights = examples\n",
    "nf = neighbors_from_heights(heights,rows,cols)\n",
    "assert start_point == (0,0)\n",
    "assert end_point == (2,5)\n",
    "assert rows == 5\n",
    "assert cols == 8\n",
    "assert heights == ['aabqponm','abcryxxl','accszzxk','acctuvwj','abdefghi']\n",
    "assert allowed('c','b') and allowed('c','c') and allowed('c','d')\n",
    "assert allowed('c','e') == False\n",
    "assert nf((0,0)) == [(1, 0), (0, 1)]\n",
    "assert nf((1,0)) == [(2, 0), (0, 0), (1, 1)]\n",
    "assert nf((1,1)) == [(2, 1), (0, 1), (1, 2), (1, 0)]\n",
    "assert part1(*examples) == 31\n",
    "\n",
    "## answers ####################################################################\n",
    "print(f\"Part 1: {part1(*actuals)}\")\n",
    "print(f\"Part 2: {part2(*actuals)}\")"
   ]
  }
 ],
 "metadata": {
  "kernelspec": {
   "display_name": "Python 3 (ipykernel)",
   "language": "python",
   "name": "python3"
  },
  "language_info": {
   "codemirror_mode": {
    "name": "ipython",
    "version": 3
   },
   "file_extension": ".py",
   "mimetype": "text/x-python",
   "name": "python",
   "nbconvert_exporter": "python",
   "pygments_lexer": "ipython3",
   "version": "3.10.8"
  },
  "orig_nbformat": 4
 },
 "nbformat": 4,
 "nbformat_minor": 2
}
