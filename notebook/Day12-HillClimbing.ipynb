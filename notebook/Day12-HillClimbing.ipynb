{
 "cells": [
  {
   "attachments": {},
   "cell_type": "markdown",
   "metadata": {},
   "source": [
    "Advent of Code 2022 Day 12 - [Hill Climbing Algorithm](https://adventofcode.com/2022/day/12)"
   ]
  },
  {
   "cell_type": "code",
   "execution_count": 41,
   "metadata": {},
   "outputs": [
    {
     "name": "stdout",
     "output_type": "stream",
     "text": [
      "83\n",
      "0 0 98 [(1, 0), (-1, 0), (0, 1), (0, -1)]\n",
      "[]\n",
      "(0, 0) 0 {(0, 0): 0}\n",
      "0 0 98 [(1, 0), (-1, 0), (0, 1), (0, -1)]\n"
     ]
    },
    {
     "ename": "AssertionError",
     "evalue": "",
     "output_type": "error",
     "traceback": [
      "\u001b[0;31m---------------------------------------------------------------------------\u001b[0m",
      "\u001b[0;31mAssertionError\u001b[0m                            Traceback (most recent call last)",
      "Cell \u001b[0;32mIn[41], line 65\u001b[0m\n\u001b[1;32m     62\u001b[0m \u001b[39mprint\u001b[39m(nf((\u001b[39m0\u001b[39m,\u001b[39m0\u001b[39m)))\n\u001b[1;32m     64\u001b[0m \u001b[39m# print(part1(*parse('../data/Day12-pre.txt')))\u001b[39;00m\n\u001b[0;32m---> 65\u001b[0m \u001b[39massert\u001b[39;00m part1(\u001b[39m*\u001b[39mparse(\u001b[39m'\u001b[39m\u001b[39m../data/Day12-pre.txt\u001b[39m\u001b[39m'\u001b[39m)) \u001b[39m==\u001b[39m \u001b[39m31\u001b[39m\n\u001b[1;32m     66\u001b[0m \u001b[39m#print(part1('../data/Day12.txt'))\u001b[39;00m\n",
      "\u001b[0;31mAssertionError\u001b[0m: "
     ]
    }
   ],
   "source": [
    "from collections import deque\n",
    "\n",
    "# must travel in alphabetical order\n",
    "# S = start at 'a' level\n",
    "# E = end at 'z' level\n",
    "\n",
    "def parse(filename):\n",
    "    lines = [ l.strip() for l in open(filename, 'r').readlines()]\n",
    "    rows, cols = len(lines), len(lines[0])\n",
    "    start_point, end_point = (0,0), (0,0)\n",
    "    for r in range(rows):\n",
    "        line = lines[r]\n",
    "        for c in range(cols):\n",
    "            if line[c] == 'S': \n",
    "                start_point = (r,c)\n",
    "                lines[r] = line.replace('S','a')\n",
    "            if line[c] == 'E': \n",
    "                end_point = (r,c)\n",
    "                lines[r] = line.replace('E','z') \n",
    "    return [start_point, end_point, rows, cols, lines]\n",
    "\n",
    "def dijkstras_shortest_path(neighbors, complete, start_point):\n",
    "    visited = {}\n",
    "    visit_queue = deque()\n",
    "    visit_queue.append((start_point,0))\n",
    "\n",
    "    while len(visit_queue) > 0:\n",
    "        p, steps = visit_queue.pop()\n",
    "        if p in visited and visited[p] <= steps: continue # we found this already\n",
    "        visited[p] = steps\n",
    "        print(p, steps, visited)\n",
    "        if complete(p): return steps # reached dest\n",
    "        for np in neighbors(p):\n",
    "            visit_queue.append((np, steps+1))\n",
    "\n",
    "def neighbors_from_heights(heights, rows, cols):\n",
    "    inbounds = lambda r,c: -1 < r and r < rows and -1 < c and c < cols\n",
    "    def inner(point):\n",
    "        r,c = point\n",
    "        target_height = ord(heights[r][c]) + 1\n",
    "        cross_points = [(r+1, c), (r-1, c), (r, c+1), (r, c-1)]\n",
    "        print(r,c,target_height,cross_points)\n",
    "        return [(r,c) for r,c in cross_points \n",
    "                  if inbounds(r,c) and ord(heights[r][c]) == target_height]\n",
    "    return inner\n",
    "\n",
    "def part1(start_point, end_point, rows, cols, heights):\n",
    "    return dijkstras_shortest_path(\n",
    "                neighbors_from_heights(heights, rows, cols),\n",
    "                lambda point: point == end_point,\n",
    "                start_point)\n",
    "\n",
    "\n",
    "start_point, end_point, rows, cols, heights = parse('../data/Day12-pre.txt')\n",
    "assert start_point == (0,0)\n",
    "assert end_point == (2,5)\n",
    "assert rows == 5\n",
    "assert cols == 8\n",
    "assert heights == ['aabqponm','abcryxxl','accszzxk','acctuvwj','abdefghi']\n",
    "print(ord('S'))\n",
    "nf = neighbors_from_heights(heights,rows,cols)\n",
    "print(nf((0,0)))\n",
    "\n",
    "# print(part1(*parse('../data/Day12-pre.txt')))\n",
    "assert part1(*parse('../data/Day12-pre.txt')) == 31\n",
    "#print(part1('../data/Day12.txt'))\n"
   ]
  }
 ],
 "metadata": {
  "kernelspec": {
   "display_name": "Python 3 (ipykernel)",
   "language": "python",
   "name": "python3"
  },
  "language_info": {
   "codemirror_mode": {
    "name": "ipython",
    "version": 3
   },
   "file_extension": ".py",
   "mimetype": "text/x-python",
   "name": "python",
   "nbconvert_exporter": "python",
   "pygments_lexer": "ipython3",
   "version": "3.10.8"
  },
  "orig_nbformat": 4
 },
 "nbformat": 4,
 "nbformat_minor": 2
}
