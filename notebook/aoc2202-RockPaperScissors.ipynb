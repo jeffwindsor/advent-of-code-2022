{
 "cells": [
  {
   "cell_type": "markdown",
   "metadata": {},
   "source": [
    "# Advent of Code 2022\n",
    "\n",
    "## Day 2 - Rock Paper Scissors\n",
    "\n",
    "Opponents Moves in Column 1 : A for Rock, B for Paper, and C for Scissors. The second column, you reason, must be what you should play in response: X for Rock, Y for Paper, and Z for Scissors.\n",
    "\n",
    "Your total score is the sum of your scores for each round. The score for a single round is the score for the shape you selected (1 for Rock, 2 for Paper, and 3 for Scissors) plus the score for the outcome of the round (0 if you lost, 3 if the round was a draw, and 6 if you won).\n"
   ]
  },
  {
   "cell_type": "code",
   "execution_count": 2,
   "metadata": {},
   "outputs": [],
   "source": [
    "from enum import Enum\n",
    "\n",
    "class Move(Enum):\n",
    "    Rock     = 1\n",
    "    Paper    = 2\n",
    "    Scissors = 3\n",
    "    \n",
    "class Result(Enum):\n",
    "    Lose = 0\n",
    "    Draw = 3\n",
    "    Win  = 6\n",
    "    \n",
    "with open('../data/aoc2202.txt') as file:\n",
    "    inputs = [ line.strip() for line in file ]\n",
    "\n",
    "def roundResult(player, opponent):\n",
    "    if player == opponent: \n",
    "        return Result.Draw\n",
    "    if (player == Move.Rock and opponent == Move.Scissors) or (player == Move.Paper and opponent == Move.Rock) or (player == Move.Scissors and opponent == Move.Paper):\n",
    "        return Result.Win\n",
    "    return Result.Lose\n",
    "\n",
    "def roundScore(player, opponent):\n",
    "    result = roundResult(player,opponent)\n",
    "    return player.value + result.value\n",
    "\n",
    "def score(r): \n",
    "    return roundScore(r[0], r[1])\n",
    "\n",
    "def parseMove(move):\n",
    "    if move == \"A\" or move == \"X\" : return Move.Rock\n",
    "    if move == \"B\" or move == \"Y\" : return Move.Paper\n",
    "    if move == \"C\" or move == \"Z\" : return Move.Scissors\n",
    "    raise Exception(f\"{move} is not a known move\")"
   ]
  },
  {
   "cell_type": "markdown",
   "metadata": {},
   "source": [
    "### Part 1 - Find your score\n",
    "What would your total score be if everything goes exactly according to your strategy guide (input values)?"
   ]
  },
  {
   "cell_type": "code",
   "execution_count": 3,
   "metadata": {},
   "outputs": [
    {
     "data": {
      "text/plain": [
       "9241"
      ]
     },
     "execution_count": 3,
     "metadata": {},
     "output_type": "execute_result"
    }
   ],
   "source": [
    "def parse1(line):\n",
    "    o,p = line.split(\" \")\n",
    "    return (parseMove(p),parseMove(o))\n",
    "\n",
    "# total players score\n",
    "sum(map(score, map(parse1, inputs)))"
   ]
  },
  {
   "cell_type": "markdown",
   "metadata": {},
   "source": [
    "### Part 2 - Guess your Move\n",
    "\n",
    "The second column really is how the round needs to end: X means you need to lose, Y means you need to end the round in a draw, and Z means you need to win. Scoring works the same"
   ]
  },
  {
   "cell_type": "code",
   "execution_count": 4,
   "metadata": {},
   "outputs": [
    {
     "data": {
      "text/plain": [
       "14610"
      ]
     },
     "execution_count": 4,
     "metadata": {},
     "output_type": "execute_result"
    }
   ],
   "source": [
    "def parseResult(result):\n",
    "    if result == \"X\" : return Result.Lose\n",
    "    if result == \"Y\" : return Result.Draw\n",
    "    if result == \"Z\" : return Result.Win\n",
    "    raise Exception(f\"{result} is not a known move\")\n",
    "\n",
    "def guessMove(opponent, result):\n",
    "    if result == Result.Draw: \n",
    "        return opponent\n",
    "    if result == Result.Win:\n",
    "        if opponent == Move.Scissors: return Move.Rock\n",
    "        if opponent == Move.Rock: return Move.Paper\n",
    "        if opponent == Move.Paper: return Move.Scissors\n",
    "    if result == Result.Lose:\n",
    "        if opponent == Move.Scissors: return Move.Paper\n",
    "        if opponent == Move.Rock: return Move.Scissors\n",
    "        if opponent == Move.Paper: return Move.Rock\n",
    "\n",
    "def parse2(line):\n",
    "    o,r = line.split(\" \")\n",
    "    opponent = parseMove(o)\n",
    "    return (guessMove(opponent,parseResult(r)), opponent)\n",
    "\n",
    "# total players score\n",
    "sum(map(score, map(parse2, inputs)))"
   ]
  }
 ],
 "metadata": {
  "kernelspec": {
   "display_name": "Python 3 (ipykernel)",
   "language": "python",
   "name": "python3"
  },
  "language_info": {
   "codemirror_mode": {
    "name": "ipython",
    "version": 3
   },
   "file_extension": ".py",
   "mimetype": "text/x-python",
   "name": "python",
   "nbconvert_exporter": "python",
   "pygments_lexer": "ipython3",
   "version": "3.10.8"
  },
  "orig_nbformat": 4
 },
 "nbformat": 4,
 "nbformat_minor": 2
}
