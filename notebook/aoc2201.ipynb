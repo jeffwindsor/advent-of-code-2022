{
  "metadata": {
    "language_info": {
      "codemirror_mode": {
        "name": "python",
        "version": 3
      },
      "file_extension": ".py",
      "mimetype": "text/x-python",
      "name": "python",
      "nbconvert_exporter": "python",
      "pygments_lexer": "ipython3",
      "version": "3.8"
    },
    "kernelspec": {
      "name": "python",
      "display_name": "Python (Pyodide)",
      "language": "python"
    }
  },
  "nbformat_minor": 4,
  "nbformat": 4,
  "cells": [
    {
      "cell_type": "markdown",
      "source": "# Advent of Code 2022, Day 1\n\n## Part 1\n\nThe Elves take turns writing down the number of Calories contained by the various meals, snacks, rations, etc. that they've brought with them, one item per line. Each Elf separates their own inventory from the previous Elf's inventory (if any) by a blank line.\nFind the Elf carrying the most Calories. How many total Calories is that Elf carrying?\n\n## Part 2\n\nFind the top three Elves carrying the most Calories. How many Calories are those Elves carrying in total?\n\n## Proposed Solution\n\n- accumulate list of calories per elf\n- sort elves by calories",
      "metadata": {}
    },
    {
      "cell_type": "code",
      "source": "import functools\n\ndef read_data(file):\n    txt_file = open(f\"../data/{file}\", \"r\")\n    file_content = txt_file.read()\n    txt_file.close()\n    return file_content.split(\"\\n\")\n\ndef sumIfInt(acc, value):\n    if value.isnumeric():\n        # add to current elf's calories\n        return (acc[0], acc[1] + int(value))\n    else:\n        # append elf's calories to list of elfs' calories\n        acc[0].append(acc[1])\n        return (acc[0],0)\n\ndef caloriesByElf(inputs):\n    calories, _ = functools.reduce(sumIfInt, inputs, ([],0))\n    return calories\n    \ninputs = read_data(\"aoc2201.txt\")\ncalories = caloriesByElf(inputs)\ncalories.sort(reverse=True)",
      "metadata": {
        "trusted": true
      },
      "execution_count": null,
      "outputs": []
    },
    {
      "cell_type": "markdown",
      "source": "### Answer Part 1",
      "metadata": {}
    },
    {
      "cell_type": "code",
      "source": "calories[0]",
      "metadata": {
        "trusted": true
      },
      "execution_count": null,
      "outputs": []
    },
    {
      "cell_type": "markdown",
      "source": "### Answer Part 2",
      "metadata": {}
    },
    {
      "cell_type": "code",
      "source": "sum(calories[0:3])",
      "metadata": {
        "trusted": true
      },
      "execution_count": null,
      "outputs": []
    }
  ]
}