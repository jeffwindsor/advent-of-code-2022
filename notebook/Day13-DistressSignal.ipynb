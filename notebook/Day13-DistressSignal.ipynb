{
 "cells": [
  {
   "attachments": {},
   "cell_type": "markdown",
   "metadata": {},
   "source": [
    "Advent of Code 2022 Day 13 - [Distress Signal](https://adventofcode.com/2022/day/13)"
   ]
  },
  {
   "cell_type": "code",
   "execution_count": 64,
   "metadata": {},
   "outputs": [
    {
     "name": "stdout",
     "output_type": "stream",
     "text": [
      "True\n",
      "True\n",
      "False\n",
      "UNKNOWN\n",
      "UNKNOWN\n",
      "UNKNOWN\n",
      "UNKNOWN\n",
      "False\n"
     ]
    }
   ],
   "source": [
    "\n",
    "def inputs(filename):\n",
    "    pairs  = [b.split('\\n') for b in open(filename, 'r').read().split('\\n\\n')]\n",
    "    actuals = [[eval(a),eval(b)] for a,b in pairs]\n",
    "    return actuals\n",
    "\n",
    "def compare(a,b):\n",
    "    removes = ['0',' ',',','[',']']\n",
    "    def inner(a,b):\n",
    "        if isinstance(a,int) and isinstance(b,int):\n",
    "            return 0 if a == b else 1 if a < b else -1\n",
    "\n",
    "        if isinstance(a,list) and isinstance(b,list):\n",
    "            return [inner(aa,bb) for aa,bb in zip(a,b)]\n",
    "\n",
    "        if (isinstance(a,int) and isinstance(b,list)):\n",
    "            return inner([a], b)\n",
    "\n",
    "        if (isinstance(a,list) and isinstance(b,int)):\n",
    "            return inner(a, [b])   \n",
    "    result = ''.join([str(c) for c in str(inner(a,b)) if not c in removes])\n",
    "    match len(result):\n",
    "        case 0: return \"UNKNOWN\"\n",
    "        case _: \n",
    "            match result[0]:\n",
    "                case '1': return True\n",
    "                case '-': return False\n",
    "     \n",
    "\n",
    "\n",
    "\n",
    "examples = inputs('../data/Day13-pre.txt')\n",
    "\n",
    "for e in examples: print(compare(*e))"
   ]
  }
 ],
 "metadata": {
  "kernelspec": {
   "display_name": "Python 3 (ipykernel)",
   "language": "python",
   "name": "python3"
  },
  "language_info": {
   "codemirror_mode": {
    "name": "ipython",
    "version": 3
   },
   "file_extension": ".py",
   "mimetype": "text/x-python",
   "name": "python",
   "nbconvert_exporter": "python",
   "pygments_lexer": "ipython3",
   "version": "3.10.8"
  },
  "orig_nbformat": 4
 },
 "nbformat": 4,
 "nbformat_minor": 2
}
