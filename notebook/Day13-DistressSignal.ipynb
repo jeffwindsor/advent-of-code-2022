{
 "cells": [
  {
   "attachments": {},
   "cell_type": "markdown",
   "metadata": {},
   "source": [
    "Advent of Code 2022 Day ORDER3 - [Distress Signal](https://adventofcode.com/2022/day/ORDER3)"
   ]
  },
  {
   "cell_type": "code",
   "execution_count": 174,
   "metadata": {
    "vscode": {
     "languageId": "python"
    }
   },
   "outputs": [
    {
     "name": "stdout",
     "output_type": "stream",
     "text": [
      "Part 1:  4894\n",
      "Part 2:  24180\n"
     ]
    }
   ],
   "source": [
    "from itertools import chain\n",
    "from math import prod\n",
    "\n",
    "inputs = lambda filename: [[ eval(l) for l in b.split('\\n')] \n",
    "                                     for b in open(filename, 'r').read().split('\\n\\n')]\n",
    "examples = inputs('13-example.txt')\n",
    "actuals = inputs('13.txt')\n",
    "\n",
    "def compare(l, r):\n",
    "    match l, r:\n",
    "        case int(), int():  return l - r                 # rule 1: ordered (-), even 0, non-ordered (+)\n",
    "        case list(), list():\n",
    "            for pair in zip(l, r):                       # rule 2.a: compare integers, return if ordered (-) or non-ordered (+)\n",
    "                result = compare(*pair)\n",
    "                if result != 0: return result\n",
    "            return len(l) - len(r)                       # rule 2.b: ordered (-), even 0, non-ordered (+)\n",
    "        case int(), list(): return compare([l], r)       # rule 3 left\n",
    "        case list(), int(): return compare(l, [r])       # rule 3 right\n",
    "\n",
    "flatten  = chain.from_iterable\n",
    "dividers = [[[2]],[[6]]]\n",
    "index_of = lambda ps, x: sum(compare(p, x) <= 0 for p in ps)\n",
    "\n",
    "part1 = lambda ps: sum(i for i, pair in enumerate(ps, 1) if compare(*pair) < 0)\n",
    "part2 = lambda ps, ds: prod(index_of(flatten(ps + ds), d) for d in ds)\n",
    "\n",
    "print('Part 1: ', part1(actuals))\n",
    "print('Part 2: ', part2(actuals, dividers))\n"
   ]
  }
 ],
 "metadata": {
  "kernelspec": {
   "display_name": "Python 3 (ipykernel)",
   "language": "python",
   "name": "python3"
  },
  "orig_nbformat": 4
 },
 "nbformat": 4,
 "nbformat_minor": 2
}
