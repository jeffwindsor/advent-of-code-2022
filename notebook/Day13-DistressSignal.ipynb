{
 "cells": [
  {
   "attachments": {},
   "cell_type": "markdown",
   "metadata": {},
   "source": [
    "Advent of Code 2022 Day ORDER3 - [Distress Signal](https://adventofcode.com/2022/day/ORDER3)"
   ]
  },
  {
   "cell_type": "code",
   "execution_count": 70,
   "metadata": {},
   "outputs": [
    {
     "name": "stdout",
     "output_type": "stream",
     "text": [
      "['<', '<', '>', '<', '>', '<', '>', '>']\n",
      "[1, 2, 4, 6]\n",
      "['>', '>', '<', '<', '<', '<', '>', '<', '<', '<', '>', '>', '<', '>', '<', '>', '<', '<', '>', '<', '>', '>', '>', '>', '<', '<', '>', '>', '>', '>', '<', '>', '<', '>', '<', '<', '>', '>', '>', '<', '<', '>', '<', '<', '>', '>', '<', '>', '<', '<', '>', '<', '<', '<', '>', '<', '<', '<', '>', '>', '>', '<', '>', '<', '>', '<', '<', '<', '<', '<', '>', '<', '>', '<', '>', '>', '<', '>', '<', '>', '>', '>', '<', '<', '<', '<', '>', '<', '<', '<', '>', '>', '>', '<', '>', '>', '<', '>', '<', '>', '>', '<', '<', '>', '<', '<', '>', '<', '>', '>', '>', '>', '<', '<', '>', '>', '<', '<', '>', '>', '<', '<', '<', '>', '<', '<', '>', '>', '<', '>', '>', '>', '>', '>', '>', '>', '<', '>', '>', '<', '>', '>', '<', '>', '<', '<', '<', '>', '<', '>']\n",
      "[3, 4, 5, 6, 8, 9, 10, 13, 15, 17, 18, 20, 25, 26, 31, 33, 35, 36, 40, 41, 43, 44, 47, 49, 50, 52, 53, 54, 56, 57, 58, 62, 64, 66, 67, 68, 69, 70, 72, 74, 77, 79, 83, 84, 85, 86, 88, 89, 90, 94, 97, 99, 102, 103, 105, 106, 108, 113, 114, 117, 118, 121, 122, 123, 125, 126, 129, 137, 140, 143, 145, 146, 147, 149]\n"
     ]
    },
    {
     "data": {
      "text/plain": [
       "5360"
      ]
     },
     "execution_count": 70,
     "metadata": {},
     "output_type": "execute_result"
    }
   ],
   "source": [
    "from itertools import zip_longest\n",
    "\n",
    "ORDERED = '<'\n",
    "NOT_ORDERED = '>'\n",
    "EVEN = '='\n",
    "\n",
    "def inputs(filename):\n",
    "    pairs  = [b.split('\\n') for b in open(filename, 'r').read().split('\\n\\n')]\n",
    "    actuals = [[eval(a),eval(b)] for a,b in pairs]\n",
    "    return actuals\n",
    "\n",
    "examples = inputs('../data/Day13-pre.txt')\n",
    "actuals  = inputs('../data/Day13.txt')\n",
    "\n",
    "def compare(a,b):\n",
    "    # print('== begin =====')\n",
    "    def inner(a,b):\n",
    "        # print(f'input {a} {b}')\n",
    "        if a is None: \n",
    "            # print('  left list shorter')\n",
    "            return ORDERED\n",
    "\n",
    "        if b is None: \n",
    "            # print('  right list shorter')\n",
    "            return NOT_ORDERED\n",
    "\n",
    "        if isinstance(a,int) and isinstance(b,int):\n",
    "            # print(f'  int int => {EVEN if a == b else ORDERED if a < b else NOT_ORDERED}')\n",
    "            return EVEN if a == b else ORDERED if a < b else NOT_ORDERED\n",
    "\n",
    "        if isinstance(a,list) and isinstance(b,list):\n",
    "            match a, b:\n",
    "                case [], _: \n",
    "                    # print('  [] _ => ORDERED')\n",
    "                    return ORDERED\n",
    "                case _, []: \n",
    "                    # print('  _ [] => NOT_ORDERED')\n",
    "                    return NOT_ORDERED\n",
    "                case _, _ : \n",
    "                    # print('  _, _ => compare lists ')\n",
    "                    return [inner(aa,bb) for aa,bb in zip_longest(a,b)]\n",
    "\n",
    "        if (isinstance(a,int) and isinstance(b,list)):\n",
    "            # print(f'  int list => recurse with [{a}]')\n",
    "            return inner([a], b)\n",
    "\n",
    "        if (isinstance(a,list) and isinstance(b,int)):\n",
    "            # print(f'  list int => recurse with [{b}]')\n",
    "            return inner(a, [b])   \n",
    "    \n",
    "    chars = [str(c) for c in str(inner(a,b))]\n",
    "    result = ''.join([ c for c in chars if not c in [EVEN, ' ', \"'\", ',', '[', ']']])\n",
    "    #print(f'** result: {result} from {\"\".join(chars)} *****')\n",
    "    return [a,b,''.join([c for c in chars if not c in [' ',\"'\"]]),result, result[0]]\n",
    "\n",
    "def part1(inputs):\n",
    "    rs = [compare(*i) for i in inputs]\n",
    "    locations = [i + 1 for i, v in enumerate(rs) if v[4] == ORDERED]\n",
    "    print([v[4] for i, v in enumerate(rs)])\n",
    "    print(locations)\n",
    "    return sum(locations)\n",
    "\n",
    "#for r in compare([[1],[2,3,4],5], [[1],4,4]): print(r)\n",
    "assert part1(examples) == 13\n",
    "part1(actuals)\n",
    "# for r in [compare(*i) for i in examples]: \n",
    "#     print('=========================')\n",
    "#     for rr in r: \n",
    "#         print(rr)"
   ]
  }
 ],
 "metadata": {
  "kernelspec": {
   "display_name": "Python 3 (ipykernel)",
   "language": "python",
   "name": "python3"
  },
  "language_info": {
   "codemirror_mode": {
    "name": "ipython",
    "version": 3
   },
   "file_extension": ".py",
   "mimetype": "text/x-python",
   "name": "python",
   "nbconvert_exporter": "python",
   "pygments_lexer": "ipython3",
   "version": "3.10.8"
  },
  "orig_nbformat": 4
 },
 "nbformat": 4,
 "nbformat_minor": 2
}
