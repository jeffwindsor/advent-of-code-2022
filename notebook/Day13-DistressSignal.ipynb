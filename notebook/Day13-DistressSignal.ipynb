{
 "cells": [
  {
   "attachments": {},
   "cell_type": "markdown",
   "metadata": {},
   "source": [
    "Advent of Code 2022 Day 13 - [Distress Signal](https://adventofcode.com/2022/day/13)"
   ]
  },
  {
   "cell_type": "code",
   "execution_count": 38,
   "metadata": {},
   "outputs": [
    {
     "name": "stdout",
     "output_type": "stream",
     "text": [
      "list [1, 1, 3, 1, 1] [1, 1, 5, 1, 1]\n",
      "[0, 0, 1, 0, 0]\n",
      "list [[1], [2, 3, 4]] [[1], 4]\n",
      "list [1] [1]\n",
      "[[0], None]\n",
      "list [9] [[8, 7, 6]]\n",
      "[None]\n",
      "list [[4, 4], 4, 4] [[4, 4], 4, 4, 4]\n",
      "list [4, 4] [4, 4]\n",
      "[[0, 0], 0, 0]\n",
      "list [7, 7, 7, 7] [7, 7, 7]\n",
      "[0, 0, 0]\n",
      "list [] [3]\n",
      "[]\n",
      "list [[[]]] [[]]\n",
      "list [[]] []\n",
      "[[]]\n",
      "list [1, [2, [3, [4, [5, 6, 7]]]], 8, 9] [1, [2, [3, [4, [5, 6, 0]]]], 8, 9]\n",
      "list [2, [3, [4, [5, 6, 7]]]] [2, [3, [4, [5, 6, 0]]]]\n",
      "list [3, [4, [5, 6, 7]]] [3, [4, [5, 6, 0]]]\n",
      "list [4, [5, 6, 7]] [4, [5, 6, 0]]\n",
      "list [5, 6, 7] [5, 6, 0]\n",
      "[0, [0, [0, [0, [0, 0, -1]]]], 0, 0]\n"
     ]
    }
   ],
   "source": [
    "def inputs(filename):\n",
    "    pairs  = [b.split('\\n') for b in open(filename, 'r').read().split('\\n\\n')]\n",
    "    actuals = [[eval(a),eval(b)] for a,b in pairs]\n",
    "    return actuals\n",
    "\n",
    "def compare(a,b):\n",
    "    if isinstance(a,list) and isinstance(b,list):\n",
    "        print('list', a,b)\n",
    "        return [compare(aa,bb) for aa,bb in zip(a,b)]\n",
    "\n",
    "    if isinstance(a,int) and isinstance(b,int):\n",
    "        return 0 if a == b else 1 if a < b else -1\n",
    "    \n",
    "\n",
    "\n",
    "\n",
    "for p in inputs('../data/Day13-pre.txt'): print(compare(*p))"
   ]
  }
 ],
 "metadata": {
  "kernelspec": {
   "display_name": "Python 3 (ipykernel)",
   "language": "python",
   "name": "python3"
  },
  "language_info": {
   "codemirror_mode": {
    "name": "ipython",
    "version": 3
   },
   "file_extension": ".py",
   "mimetype": "text/x-python",
   "name": "python",
   "nbconvert_exporter": "python",
   "pygments_lexer": "ipython3",
   "version": "3.10.8"
  },
  "orig_nbformat": 4
 },
 "nbformat": 4,
 "nbformat_minor": 2
}
