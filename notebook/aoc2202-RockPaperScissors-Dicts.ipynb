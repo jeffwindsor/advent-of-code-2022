{
 "cells": [
  {
   "cell_type": "markdown",
   "metadata": {},
   "source": [
    "# Advent of Code 2022\n",
    "\n",
    "## Day 2 - Rock Paper Scissors\n",
    "\n",
    "Opponents Moves in Column 1 : A for Rock, B for Paper, and C for Scissors. The second column, you reason, must be what you should play in response: X for Rock, Y for Paper, and Z for Scissors.\n",
    "\n",
    "Your total score is the sum of your scores for each round. The score for a single round is the score for the shape you selected (1 for Rock, 2 for Paper, and 3 for Scissors) plus the score for the outcome of the round (0 if you lost, 3 if the round was a draw, and 6 if you won).\n"
   ]
  },
  {
   "cell_type": "code",
   "execution_count": 25,
   "metadata": {
    "vscode": {
     "languageId": "python"
    }
   },
   "outputs": [],
   "source": [
    "from functools import reduce\n",
    "\n",
    "# taking andy hsu's more experienced python-ic approach and seeing if I can bend it more fucntional, need to ask andy about it\n",
    "with open(\"../data/aoc2202.txt\") as file:\n",
    "    rounds = list(map(lambda s: s.strip(), file.readlines()))\n",
    "\n",
    "def score(acc,round): return acc + scores[round]"
   ]
  },
  {
   "cell_type": "markdown",
   "metadata": {},
   "source": [
    "### Part 1 - Find your score\n",
    "What would your total score be if everything goes exactly according to your strategy guide (input values)?"
   ]
  },
  {
   "cell_type": "code",
   "execution_count": 26,
   "metadata": {
    "vscode": {
     "languageId": "python"
    }
   },
   "outputs": [
    {
     "data": {
      "text/plain": [
       "9241"
      ]
     },
     "execution_count": 26,
     "metadata": {},
     "output_type": "execute_result"
    }
   ],
   "source": [
    "scores = { 'C X':7, 'A Y':8, 'B Z':9, 'A X':4, 'B Y':5, 'C Z':6, 'B X':1, 'C Y':2, 'A Z':3 }\n",
    "reduce(score, rounds, 0)"
   ]
  },
  {
   "cell_type": "markdown",
   "metadata": {},
   "source": [
    "### Part 2 - Guess your Move\n",
    "\n",
    "The second column really is how the round needs to end: X means you need to lose, Y means you need to end the round in a draw, and Z means you need to win. Scoring works the same"
   ]
  },
  {
   "cell_type": "code",
   "execution_count": 27,
   "metadata": {
    "vscode": {
     "languageId": "python"
    }
   },
   "outputs": [
    {
     "data": {
      "text/plain": [
       "14610"
      ]
     },
     "execution_count": 27,
     "metadata": {},
     "output_type": "execute_result"
    }
   ],
   "source": [
    "scores = { 'A X':3, 'B X':1, 'C X':2, 'A Y':4, 'B Y':5, 'C Y':6, 'A Z':8, 'B Z':9, 'C Z':7 }\n",
    "reduce(score, rounds, 0)"
   ]
  }
 ],
 "metadata": {
  "kernelspec": {
   "display_name": "Python 3 (ipykernel)",
   "language": "python",
   "name": "python3"
  },
  "orig_nbformat": 4
 },
 "nbformat": 4,
 "nbformat_minor": 2
}
