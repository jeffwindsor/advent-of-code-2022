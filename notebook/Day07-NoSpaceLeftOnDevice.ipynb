{
 "cells": [
  {
   "cell_type": "markdown",
   "metadata": {},
   "source": [
    "# Advent of Code\n",
    "## Day 7 - [No Space Left On Device](https://adventofcode.com/2022/day/7)"
   ]
  },
  {
   "cell_type": "code",
   "execution_count": 36,
   "metadata": {},
   "outputs": [],
   "source": [
    "def parse_cmd_args(input):\n",
    "    return [c.split(' ') for c in input.strip().split('\\n')]\n",
    "\n",
    "def parse_cmd(input):\n",
    "    return [input[:2],parse_cmd_args(input[2:])]\n",
    "\n",
    "def get_inputs(filename):\n",
    "    with open(filename) as file:\n",
    "        return [ parse_cmd(i) for i in file.read().strip().split('$ ') if i]\n",
    "\n",
    "assert parse_cmd('cd /\\n') == ['cd', [['/']]], 'change directory'\n",
    "assert parse_cmd('ls\\ndir a\\n14848514 b.txt\\n8504156 c.dat\\ndir d\\n') == ['ls', [['dir', 'a'], ['14848514', 'b.txt'], ['8504156', 'c.dat'],['dir','d']]], 'ls directory'\n",
    "\n",
    "#print(get_inputs('../data/Day07-part1.txt'))"
   ]
  }
 ],
 "metadata": {
  "kernelspec": {
   "display_name": "Python 3 (ipykernel)",
   "language": "python",
   "name": "python3"
  },
  "language_info": {
   "codemirror_mode": {
    "name": "ipython",
    "version": 3
   },
   "file_extension": ".py",
   "mimetype": "text/x-python",
   "name": "python",
   "nbconvert_exporter": "python",
   "pygments_lexer": "ipython3",
   "version": "3.10.8"
  },
  "orig_nbformat": 4
 },
 "nbformat": 4,
 "nbformat_minor": 2
}
