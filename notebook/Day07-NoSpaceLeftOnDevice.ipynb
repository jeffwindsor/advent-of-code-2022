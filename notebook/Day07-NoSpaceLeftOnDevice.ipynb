{
 "cells": [
  {
   "cell_type": "markdown",
   "metadata": {},
   "source": [
    "# Advent of Code\n",
    "## Day 7 - [No Space Left On Device](https://adventofcode.com/2022/day/7)\n",
    "\n",
    "### Step 1: Parse input into list of commands"
   ]
  },
  {
   "cell_type": "code",
   "execution_count": 189,
   "metadata": {
    "vscode": {
     "languageId": "python"
    }
   },
   "outputs": [],
   "source": [
    "def get_inputs(filename): \n",
    "    with open(filename) as file: \n",
    "        return file.read().strip()\n",
    "        \n",
    "def parse_cmd_args(args_input): return [arg.split(' ') for arg in args_input.strip().split('\\n')]\n",
    "def parse_cmd(cmd_input):       return [cmd_input[:2], parse_cmd_args(cmd_input[2:])]\n",
    "def parse_cmds(inputs):         return [parse_cmd(i) for i in inputs.split('$ ') if i]"
   ]
  },
  {
   "cell_type": "markdown",
   "metadata": {},
   "source": [
    "### Step 2: 'run' commands to reveal the file system tree"
   ]
  },
  {
   "cell_type": "code",
   "execution_count": 190,
   "metadata": {
    "vscode": {
     "languageId": "python"
    }
   },
   "outputs": [],
   "source": [
    "ROOT_PATH, PATH_SEP = '', '/'\n",
    "\n",
    "def start():\n",
    "    root = { 'path': ROOT_PATH, 'directories':set(), 'files':set() }\n",
    "    return ({ ROOT_PATH: root },root)\n",
    "\n",
    "def path(item): return item['path']\n",
    "\n",
    "def cd(index, current_dir, dir_name):\n",
    "    if dir_name == \"..\":  \n",
    "        current_path = path(current_dir)\n",
    "        parent_path = current_path[:current_path.rfind(PATH_SEP)]\n",
    "        return index[parent_path]\n",
    "    elif dir_name == \"/\": \n",
    "        return index[ROOT_PATH]\n",
    "    else:\n",
    "        result = { 'path': f'{path(current_dir)}{PATH_SEP}{dir_name}', 'directories':set(), 'files':set() }\n",
    "        index[path(result)] = result\n",
    "        current_dir['directories'].add(path(result))\n",
    "        return result"
   ]
  },
  {
   "cell_type": "code",
   "execution_count": 191,
   "metadata": {
    "vscode": {
     "languageId": "python"
    }
   },
   "outputs": [],
   "source": [
    "# PARSE\n",
    "assert parse_cmds(get_inputs('../data/Day07-part1.txt')) == [\n",
    "    ['cd', [['/']]],\n",
    "    ['ls', [['dir', 'a'], ['14848514', 'b.txt'], ['8504156', 'c.dat'], ['dir', 'd']]],\n",
    "    ['cd', [['a']]],\n",
    "    ['ls', [['dir', 'e'], ['29116', 'f'], ['2557', 'g'], ['62596', 'h.lst']]],\n",
    "    ['cd', [['e']]],\n",
    "    ['ls', [['584', 'i']]],\n",
    "    ['cd', [['..']]],\n",
    "    ['cd', [['..']]],\n",
    "    ['cd', [['d']]],\n",
    "    ['ls', [['4060174', 'j'], ['8033020', 'd.log'], ['5626152', 'd.ext'], ['7214296', 'k']]]\n",
    "], 'part 1 test input'\n",
    "\n",
    "# CD\n",
    "index, parent = start()\n",
    "\n",
    "child = cd(index, parent, \"b\")\n",
    "grandchild = cd(index, child, \"c\")\n",
    "\n",
    "assert parent == { 'path': '', 'directories':{'/b'}, 'files':set()}, 'cd updates parent directory set with child path'\n",
    "assert child  == { 'path': '/b', 'directories':{'/b/c'}, 'files':set()}, 'cd returns directory with correct path'\n",
    "assert grandchild  == { 'path': '/b/c', 'directories':set(), 'files':set()}, 'cd returns directory with correct path'\n",
    "assert index  == { '': parent, '/b': child, '/b/c': grandchild }, 'cd adds new child to path index'\n",
    "assert cd(index, grandchild, \"..\") == child, 'cd .. move up a directory'\n",
    "assert cd(index, grandchild, \"/\" ) == parent, 'cd / returns root'\n",
    "\n"
   ]
  }
 ],
 "metadata": {
  "kernelspec": {
   "display_name": "Python 3 (ipykernel)",
   "language": "python",
   "name": "python3"
  },
  "orig_nbformat": 4
 },
 "nbformat": 4,
 "nbformat_minor": 2
}
