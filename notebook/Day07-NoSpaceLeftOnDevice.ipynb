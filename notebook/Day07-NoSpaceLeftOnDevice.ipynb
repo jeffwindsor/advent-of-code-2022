{
 "cells": [
  {
   "cell_type": "markdown",
   "metadata": {},
   "source": [
    "# Advent of Code\n",
    "## Day 7 - [No Space Left On Device](https://adventofcode.com/2022/day/7)"
   ]
  },
  {
   "cell_type": "code",
   "execution_count": 24,
   "metadata": {},
   "outputs": [
    {
     "name": "stdout",
     "output_type": "stream",
     "text": [
      "[['cd', [['/']]], ['ls', [['dir', 'a'], ['14848514', 'b.txt'], ['8504156', 'c.dat'], ['dir', 'd']]], ['cd', [['a']]], ['ls', [['dir', 'e'], ['29116', 'f'], ['2557', 'g'], ['62596', 'h.lst']]], ['cd', [['e']]], ['ls', [['584', 'i']]], ['cd', [['..']]], ['cd', [['..']]], ['cd', [['d']]], ['ls', [['4060174', 'j'], ['8033020', 'd.log'], ['5626152', 'd.ext'], ['7214296', 'k']]]]\n"
     ]
    }
   ],
   "source": [
    "def parse_cmd_args(input):\n",
    "    return [c.split(' ') for c in input.strip().split('\\n')]\n",
    "\n",
    "def parse_cmd(input):\n",
    "    return [input[:2],parse_cmd_args(input[2:])]\n",
    "\n",
    "def get_inputs(filename):\n",
    "    with open(filename) as file:\n",
    "        return [ parse_cmd(i) for i in file.read().strip().split('$ ') if i]\n",
    "\n",
    "print(get_inputs('../data/Day07-part1.txt'))\n",
    "\n",
    "\n",
    "\n",
    "# building and walking a tree"
   ]
  }
 ],
 "metadata": {
  "kernelspec": {
   "display_name": "Python 3 (ipykernel)",
   "language": "python",
   "name": "python3"
  },
  "language_info": {
   "codemirror_mode": {
    "name": "ipython",
    "version": 3
   },
   "file_extension": ".py",
   "mimetype": "text/x-python",
   "name": "python",
   "nbconvert_exporter": "python",
   "pygments_lexer": "ipython3",
   "version": "3.10.8"
  },
  "orig_nbformat": 4
 },
 "nbformat": 4,
 "nbformat_minor": 2
}
