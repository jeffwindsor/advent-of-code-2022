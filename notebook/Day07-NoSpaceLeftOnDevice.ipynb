{
 "cells": [
  {
   "cell_type": "markdown",
   "metadata": {},
   "source": [
    "# Advent of Code\n",
    "## Day 7 - [No Space Left On Device](https://adventofcode.com/2022/day/7)\n",
    "\n",
    "### Step 1: Parse input into list of commands"
   ]
  },
  {
   "cell_type": "code",
   "execution_count": 121,
   "metadata": {},
   "outputs": [],
   "source": [
    "def get_inputs(filename): \n",
    "    with open(filename) as file: \n",
    "        return file.read().strip()\n",
    "        \n",
    "def parse_cmd_args(args_input): return [arg.split(' ') for arg in args_input.strip().split('\\n')]\n",
    "def parse_cmd(cmd_input):       return [cmd_input[:2], parse_cmd_args(cmd_input[2:])]\n",
    "def parse_cmds(inputs):         return [parse_cmd(i) for i in inputs.split('$ ') if i]"
   ]
  },
  {
   "cell_type": "markdown",
   "metadata": {},
   "source": [
    "### Step 2: 'run' commands to reveal the file system tree"
   ]
  },
  {
   "cell_type": "code",
   "execution_count": 122,
   "metadata": {},
   "outputs": [
    {
     "name": "stdout",
     "output_type": "stream",
     "text": [
      "Part 1:  1886043\n",
      "Part 2:  3842121\n"
     ]
    }
   ],
   "source": [
    "ROOT_PATH, PATH_SEP = '', '/'\n",
    "\n",
    "def path(item): return item['path']\n",
    "def size(item): return item['size']\n",
    "\n",
    "def cd(index, current_dir, target):\n",
    "    if target == \"..\":  \n",
    "        current_path = path(current_dir)\n",
    "        parent_path = current_path[:current_path.rfind(PATH_SEP)]\n",
    "        return index[parent_path]\n",
    "    elif target == \"/\": \n",
    "        return index[ROOT_PATH]\n",
    "    else:\n",
    "        target_path = f'{path(current_dir)}{PATH_SEP}{target}'\n",
    "        if target_path in index: \n",
    "            return index[target_path]\n",
    "        else:\n",
    "            result = { 'path': target_path, 'directories':set(), 'size':0 }\n",
    "            current_dir['directories'].add(target_path)\n",
    "            index[path(result)] = result\n",
    "            return result\n",
    "\n",
    "def ls(current_dir, items):\n",
    "    current_dir['size'] = sum([int(i) for (i,_) in items if i.isnumeric() ])\n",
    "    return current_dir\n",
    "\n",
    "def build(commands):\n",
    "    index, root = start()\n",
    "    d = root\n",
    "    for cmd, args in commands:\n",
    "        d = ls(d,args) if cmd == 'ls' else cd(index, d, args[0][0])\n",
    "    return index\n",
    "\n",
    "def start():\n",
    "    root = { 'path': ROOT_PATH, 'directories':set(), 'size':0, }\n",
    "    return ({ ROOT_PATH: root },root)\n",
    "\n",
    "def totals(path_dir):\n",
    "    path_totalsize = {}\n",
    "    for p in sorted(path_dir.keys(), key=len, reverse=True):\n",
    "        d = path_dir[p]\n",
    "        path_totalsize[p] = size(d) + sum([ path_totalsize[sp] for sp in d['directories']])\n",
    "    return path_totalsize\n",
    "\n",
    "def part1(filename):\n",
    "    path_totalsize = totals(build(parse_cmds(get_inputs(filename))))\n",
    "    return sum([s for s in path_totalsize.values() if s <= 100000])\n",
    "\n",
    "assert part1('../data/Day07-part1.txt') == 95437\n",
    "print(\"Part 1: \", part1('../data/Day07.txt'))\n",
    "\n",
    "def part2(filename):\n",
    "    path_totalsize = totals(build(parse_cmds(get_inputs(filename))))\n",
    "    root_size = path_totalsize['']\n",
    "    needed_space = 30000000 - (70000000 - root_size)\n",
    "    return min([s for s in path_totalsize.values() if s >= needed_space])\n",
    "\n",
    "assert part2('../data/Day07-part1.txt') == 24933642\n",
    "print(\"Part 2: \", part2('../data/Day07.txt'))"
   ]
  },
  {
   "cell_type": "code",
   "execution_count": 123,
   "metadata": {},
   "outputs": [],
   "source": [
    "# PARSE\n",
    "assert parse_cmds(get_inputs('../data/Day07-part1.txt')) == [\n",
    "    ['cd', [['/']]],\n",
    "    ['ls', [['dir', 'a'], ['14848514', 'b.txt'], ['8504156', 'c.dat'], ['dir', 'd']]],\n",
    "    ['cd', [['a']]],\n",
    "    ['ls', [['dir', 'e'], ['29116', 'f'], ['2557', 'g'], ['62596', 'h.lst']]],\n",
    "    ['cd', [['e']]],\n",
    "    ['ls', [['584', 'i']]],\n",
    "    ['cd', [['..']]],\n",
    "    ['cd', [['..']]],\n",
    "    ['cd', [['d']]],\n",
    "    ['ls', [['4060174', 'j'], ['8033020', 'd.log'], ['5626152', 'd.ext'], ['7214296', 'k']]]\n",
    "], 'part 1 test input'\n",
    "\n",
    "# cd\n",
    "index, root = start()\n",
    "b = cd(index, root, \"b\")\n",
    "c = cd(index, b, \"c\")\n",
    "\n",
    "assert root == { 'path': '', 'directories':{'/b'}, 'size':0}, 'cd updates root directory set with b path'\n",
    "assert b  == { 'path': '/b', 'directories':{'/b/c'}, 'size':0}, 'cd returns directory with correct path'\n",
    "assert c  == { 'path': '/b/c', 'directories':set(), 'size':0}, 'cd returns directory with correct path'\n",
    "assert index  == { '': root, '/b': b, '/b/c': c }, 'cd adds new b to path index'\n",
    "assert cd(index, c, \"..\") == b, 'cd .. move up a directory'\n",
    "assert cd(index, c, \"/\" ) == root, 'cd / returns root'\n",
    "\n",
    "# ls\n",
    "index, root = start()\n",
    "ls(root, [['4060174', 'j'], ['dir', 'a'], ['8033020','d.log'], ['5626152','d.ext'], ['dir', 'd'], ['7214296','k']])\n",
    "assert root == { 'path':'', 'directories':set(), 'size': 24933642}, 'ls only adds size'\n",
    "\n",
    "# build\n",
    "assert build(parse_cmds(get_inputs('../data/Day07-part1.txt'))) == {\n",
    "    '':     {'path': '', 'directories': {'/a', '/d'}, 'size': 23352670}, \n",
    "    '/a':   {'path': '/a', 'directories': {'/a/e'}, 'size': 94269}, \n",
    "    '/a/e': {'path': '/a/e', 'directories': set(), 'size': 584}, \n",
    "    '/d': {'path': '/d', 'directories': set(), 'size': 24933642}\n",
    "    }\n",
    "\n"
   ]
  }
 ],
 "metadata": {
  "kernelspec": {
   "display_name": "Python 3 (ipykernel)",
   "language": "python",
   "name": "python3"
  },
  "language_info": {
   "codemirror_mode": {
    "name": "ipython",
    "version": 3
   },
   "file_extension": ".py",
   "mimetype": "text/x-python",
   "name": "python",
   "nbconvert_exporter": "python",
   "pygments_lexer": "ipython3",
   "version": "3.10.8"
  },
  "orig_nbformat": 4
 },
 "nbformat": 4,
 "nbformat_minor": 2
}
