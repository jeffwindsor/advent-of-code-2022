{
 "cells": [
  {
   "cell_type": "markdown",
   "metadata": {},
   "source": [
    "# Advent of Code\n",
    "## Day 7 - [No Space Left On Device](https://adventofcode.com/2022/day/7)"
   ]
  },
  {
   "cell_type": "code",
   "execution_count": 9,
   "metadata": {},
   "outputs": [
    {
     "name": "stdout",
     "output_type": "stream",
     "text": [
      "('cd', [['/']])\n",
      "('ls', [['dir', 'a'], ['14848514', 'b.txt'], ['8504156', 'c.dat'], ['dir', 'd']])\n",
      "('cd', [['a']])\n",
      "('ls', [['dir', 'e'], ['29116', 'f'], ['2557', 'g'], ['62596', 'h.lst']])\n",
      "('cd', [['e']])\n",
      "('ls', [['584', 'i']])\n",
      "('cd', [['..']])\n",
      "('cd', [['..']])\n",
      "('cd', [['d']])\n",
      "('ls', [['4060174', 'j'], ['8033020', 'd.log'], ['5626152', 'd.ext'], ['7214296', 'k']])\n"
     ]
    }
   ],
   "source": [
    "def get_inputs(filename): \n",
    "    with open(filename) as file: return file.read().strip()\n",
    "\n",
    "def parse_cmd_args(args_input):\n",
    "    return [arg.split(' ') for arg in args_input.strip().split('\\n')]\n",
    "\n",
    "def parse_cmd(cmd_input):\n",
    "    return (cmd_input[:2],parse_cmd_args(cmd_input[2:]))\n",
    "\n",
    "def parse_cmds(inputs):\n",
    "    return [ parse_cmd(i) for i in inputs.split('$ ') if i]\n",
    "\n",
    "assert parse_cmd('cd /\\n') == ('cd', [['/']]), 'change directory'\n",
    "assert parse_cmd('ls\\ndir a\\n14848514 b.txt\\n8504156 c.dat\\ndir d\\n') == ('ls', [['dir', 'a'], ['14848514', 'b.txt'], ['8504156', 'c.dat'],['dir','d']]), 'ls directory'\n",
    "\n",
    "for c in parse_cmds(get_inputs('../data/Day07-part1.txt')): print(c)"
   ]
  }
 ],
 "metadata": {
  "kernelspec": {
   "display_name": "Python 3 (ipykernel)",
   "language": "python",
   "name": "python3"
  },
  "language_info": {
   "codemirror_mode": {
    "name": "ipython",
    "version": 3
   },
   "file_extension": ".py",
   "mimetype": "text/x-python",
   "name": "python",
   "nbconvert_exporter": "python",
   "pygments_lexer": "ipython3",
   "version": "3.10.8"
  },
  "orig_nbformat": 4
 },
 "nbformat": 4,
 "nbformat_minor": 2
}
