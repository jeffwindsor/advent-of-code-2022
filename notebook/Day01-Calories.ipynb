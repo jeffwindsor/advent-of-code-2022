{
  "cells": [
    {
      "attachments": {},
      "cell_type": "markdown",
      "metadata": {},
      "source": [
        "Advent of Code 2022 Day 1 - [Calories](https://adventofcode.com/2022/day/1)"
      ]
    },
    {
      "cell_type": "code",
      "execution_count": 22,
      "metadata": {
        "trusted": true
      },
      "outputs": [
        {
          "name": "stdout",
          "output_type": "stream",
          "text": [
            "Part 1: 71023\n",
            "Part 1: 206289\n"
          ]
        }
      ],
      "source": [
        "def calories_per_elf(filename): return sorted([sum([int(x) \n",
        "    for x in l.split('\\n')]) \n",
        "    for l in open(filename, 'r').read().split('\\n\\n')], reverse=True)\n",
        "\n",
        "answer = calories_per_elf('../data/Day01.txt')\n",
        "print(f'Part 1: {answer[0]}')         #Your puzzle answer was  71023\n",
        "print(f'Part 1: {sum(answer[:3])}')   #Your puzzle answer was 206289"
      ]
    }
  ],
  "metadata": {
    "kernelspec": {
      "display_name": "Python 3 (ipykernel)",
      "language": "python",
      "name": "python3"
    },
    "language_info": {
      "codemirror_mode": {
        "name": "ipython",
        "version": 3
      },
      "file_extension": ".py",
      "mimetype": "text/x-python",
      "name": "python",
      "nbconvert_exporter": "python",
      "pygments_lexer": "ipython3",
      "version": "3.10.8"
    }
  },
  "nbformat": 4,
  "nbformat_minor": 4
}
