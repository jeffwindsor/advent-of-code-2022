{
 "cells": [
  {
   "cell_type": "code",
   "execution_count": 119,
   "metadata": {},
   "outputs": [
    {
     "name": "stdout",
     "output_type": "stream",
     "text": [
      "example: \n",
      "##..##..##..##..##..##..##..##..##..##..\n",
      "###...###...###...###...###...###...###.\n",
      "####....####....####....####....####....\n",
      "#####.....#####.....#####.....#####.....\n",
      "######......######......######......####\n",
      "#######.......#######.......#######.....\n",
      "Part 1:  14520\n",
      "Part 2:\n",
      "###..####.###...##..####.####...##.###..\n",
      "#..#....#.#..#.#..#....#.#.......#.#..#.\n",
      "#..#...#..###..#......#..###.....#.###..\n",
      "###...#...#..#.#.##..#...#.......#.#..#.\n",
      "#....#....#..#.#..#.#....#....#..#.#..#.\n",
      "#....####.###...###.####.####..##..###..\n"
     ]
    }
   ],
   "source": [
    "def get_inputs(filename): \n",
    "    with open(filename) as file: input_text = file.read().strip()\n",
    "    commands = [ line.split(' ') for line in input_text.split('\\n') ]\n",
    "    # convert 'noop' to 0, and 'addx n' to [0, n]\n",
    "    add_to_x_by_cycle = [ [0] if c[0] == 'noop' else [0,int(c[1])] for c in commands]\n",
    "    flattened = [x for xs in add_to_x_by_cycle for x in xs]\n",
    "    return flattened\n",
    "\n",
    "def scan(initial, inputs):\n",
    "    def inner():\n",
    "        x = initial\n",
    "        for i in inputs:\n",
    "            x += i\n",
    "            yield x\n",
    "    return list(inner())\n",
    "\n",
    "def signal_strengths(interval, xs):\n",
    "    # add pre steps: one for \"during cycle\" and one for index by 1 \n",
    "    indexed_xs = list(enumerate([0,0] + xs))\n",
    "    return [ i * x for i,x in indexed_xs[interval::(interval * 2)]]\n",
    "\n",
    "def part1(inputs):\n",
    "    xs = scan(1, inputs)\n",
    "    return sum(signal_strengths(20, xs))\n",
    "\n",
    "def part2(inputs):\n",
    "    width = 40\n",
    "    lines = 6\n",
    "    # add one for index by 1, mod index by width  \n",
    "    xs = scan(1, [0] + inputs)\n",
    "    results = [ '#' if (i % width - 2) < x and x < (i % width + 2) else '.' for i,x in enumerate(xs)]\n",
    "    return ''.join(results[:width * lines])\n",
    "\n",
    "\n",
    "# tests\n",
    "pre1 = get_inputs('../data/Day10-pre1.txt')\n",
    "pre2 = get_inputs('../data/Day10-pre2.txt')\n",
    "assert scan(1, pre1) == [1,1,4,4,-1], 'scan returns correct x values'\n",
    "assert list(signal_strengths(20, scan(1, pre2))) == [420,1140,1800,2940,2880,3960], 'part 1 : signal strength example'\n",
    "assert part1(pre2) == 13140, 'part 1: sum signal strength example'\n",
    "\n",
    "expected = \"##..##..##..##..##..##..##..##..##..##..###...###...###...###...###...###...###.####....####....####....####....####....#####.....#####.....#####.....#####.....######......######......######......###########.......#######.......#######.....\"\n",
    "assert part2(pre2) == expected, 'part 2: crt output example'\n",
    "\n",
    "# answers\n",
    "def print_answer(prefix, answer):\n",
    "    print(prefix)\n",
    "    for i in range(6):\n",
    "        start = i * 40\n",
    "        print(answer[start: start + 40])\n",
    "\n",
    "print_answer(\"example: \", part2(pre2))\n",
    "\n",
    "day = get_inputs('../data/Day10.txt')\n",
    "print(\"Part 1: \", part1(day))\n",
    "print_answer(\"Part 2:\", part2(day))\n",
    "\n",
    "\n",
    "\n",
    "    "
   ]
  }
 ],
 "metadata": {
  "kernelspec": {
   "display_name": "Python 3 (ipykernel)",
   "language": "python",
   "name": "python3"
  },
  "language_info": {
   "codemirror_mode": {
    "name": "ipython",
    "version": 3
   },
   "file_extension": ".py",
   "mimetype": "text/x-python",
   "name": "python",
   "nbconvert_exporter": "python",
   "pygments_lexer": "ipython3",
   "version": "3.10.8"
  },
  "orig_nbformat": 4
 },
 "nbformat": 4,
 "nbformat_minor": 2
}
