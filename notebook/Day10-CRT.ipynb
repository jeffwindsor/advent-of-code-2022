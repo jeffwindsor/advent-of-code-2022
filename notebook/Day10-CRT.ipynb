{
 "cells": [
  {
   "cell_type": "code",
   "execution_count": 33,
   "metadata": {},
   "outputs": [
    {
     "name": "stdout",
     "output_type": "stream",
     "text": [
      "Part 1: 14520\n"
     ]
    }
   ],
   "source": [
    "\n",
    " def get_inputs(filename): \n",
    "    with open(filename) as file: \n",
    "        input_text = file.read().strip()\n",
    "    # all commands\n",
    "    commands = [ line.split(' ') for line in input_text.split('\\n') ]\n",
    "    # convert 'noop' to 0, and 'addx n' to [0, n]\n",
    "    only_adds = [ [0] if c[0] == 'noop' else [0,int(c[1])] for c in commands]\n",
    "    # flatten list so it is a tape of adds\n",
    "    flattened_adds = [a for adds in only_adds for a in adds]\n",
    "    return flattened_adds\n",
    "\n",
    "def scan(initial, inputs):\n",
    "    x = initial\n",
    "    for i in inputs:\n",
    "        x += i\n",
    "        yield x\n",
    "\n",
    "during_cycle_offset = 2\n",
    "def signal_strengths(offset,interval, xs):\n",
    "    xs = list(enumerate(xs))\n",
    "    filtered = xs[(interval - offset)::(interval * 2)]\n",
    "    adjusted = [(i + 2, x) for i,x in filtered]\n",
    "    results = [ i * x for i,x in adjusted]\n",
    "    return results\n",
    "\n",
    "def part1(inputs):\n",
    "    xs = scan(1, inputs)\n",
    "    return sum(signal_strengths(during_cycle_offset, 20, xs))\n",
    "\n",
    "def part2(inputs):\n",
    "    raise Exception(\"Part 2 Not Implemented\")\n",
    "\n",
    "\n",
    "# tests\n",
    "assert list(scan(1, get_inputs('../data/Day10-pre1.txt'))) == [1,1,4,4,-1]\n",
    "assert list(signal_strengths(during_cycle_offset, 20, scan(1, get_inputs('../data/Day10-pre2.txt')))) == [420,1140,1800,2940,2880,3960]\n",
    "assert part1(get_inputs('../data/Day10-pre2.txt')) == 13140\n",
    "\n",
    "# answers\n",
    "print(f\"Part 1: {part1(get_inputs('../data/Day10.txt'))}\")\n",
    "#print(f\"Part 1: {part2(get_inputs('../data/Day10.txt'))}\")\n",
    "    "
   ]
  }
 ],
 "metadata": {
  "kernelspec": {
   "display_name": "Python 3 (ipykernel)",
   "language": "python",
   "name": "python3"
  },
  "language_info": {
   "codemirror_mode": {
    "name": "ipython",
    "version": 3
   },
   "file_extension": ".py",
   "mimetype": "text/x-python",
   "name": "python",
   "nbconvert_exporter": "python",
   "pygments_lexer": "ipython3",
   "version": "3.10.8"
  },
  "orig_nbformat": 4
 },
 "nbformat": 4,
 "nbformat_minor": 2
}
