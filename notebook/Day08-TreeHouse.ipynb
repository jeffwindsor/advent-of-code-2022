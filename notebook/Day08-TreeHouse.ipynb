{
 "cells": [
  {
   "cell_type": "code",
   "execution_count": 75,
   "metadata": {},
   "outputs": [
    {
     "name": "stdout",
     "output_type": "stream",
     "text": [
      "1669\n"
     ]
    }
   ],
   "source": [
    "# raw input string\n",
    "def read_inputs(filename): \n",
    "    with open(filename) as file: \n",
    "        return file.read().strip()\n",
    "\n",
    "# returns (max row, max col, and points (r,c) mapped to height of tree)\n",
    "def parse(inputs):\n",
    "    result = {}\n",
    "    for r, row in enumerate(inputs.split('\\n')):\n",
    "        for c, col in enumerate(row):\n",
    "            result[(r,c)] = int(col)\n",
    "    return (r,c,result)\n",
    "\n",
    "def is_tree_visible(row_max, col_max, point2height):\n",
    "    def inner(row, col):\n",
    "        height = point2height[(row,col)]\n",
    "        left  = max([point2height[(row, c)] for c in range(0, col)]) < height\n",
    "        right = max([point2height[(row,c)] for c in range(col + 1, col_max + 1)]) < height\n",
    "        up    = max([point2height[(r,col)] for r in range(0, row)]) < height\n",
    "        down  = max([point2height[(r,col)] for r in range(row + 1, row_max + 1)]) < height\n",
    "        return left or right or up or down\n",
    "    return inner\n",
    "\n",
    "\n",
    "def part1(filename):\n",
    "    row_max,col_max,point2height = parse(read_inputs(filename))\n",
    "    isviz = is_tree_visible(row_max,col_max,point2height)\n",
    "    def isinner(r,c): return r > 0 and c > 0 and r < row_max and c < col_max\n",
    "    visible = [ (isinner(r,c) and isviz(r,c)) or not isinner(r,c) for r,c in point2height.keys()]\n",
    "    return sum(visible)\n",
    "    \n",
    "print(part1('../data/Day08.txt'))"
   ]
  },
  {
   "cell_type": "code",
   "execution_count": 76,
   "metadata": {},
   "outputs": [],
   "source": [
    "#tests\n",
    "assert neighbors((1,1)) == [(0,1),(2,1),(1,0),(1,2)]\n",
    "\n",
    "row_max,col_max,point2height = parse(read_inputs('../data/Day08-part1.txt'))\n",
    "f = is_tree_visible(row_max,col_max,point2height)\n",
    "\n",
    "assert f(1,1) == True, 'top-left 5 is visible'\n",
    "assert f(1,2) == True, 'top-middle 5 is visible'\n",
    "assert f(1,3) == False, 'top-right 1 is not visible'\n",
    "assert f(2,1) == True, 'left-middle 5 is visible'\n",
    "\n",
    "assert part1('../data/Day08-part1.txt') == 21"
   ]
  }
 ],
 "metadata": {
  "kernelspec": {
   "display_name": "Python 3 (ipykernel)",
   "language": "python",
   "name": "python3"
  },
  "language_info": {
   "codemirror_mode": {
    "name": "ipython",
    "version": 3
   },
   "file_extension": ".py",
   "mimetype": "text/x-python",
   "name": "python",
   "nbconvert_exporter": "python",
   "pygments_lexer": "ipython3",
   "version": "3.10.8"
  },
  "orig_nbformat": 4
 },
 "nbformat": 4,
 "nbformat_minor": 2
}
