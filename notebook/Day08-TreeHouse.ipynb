{
 "cells": [
  {
   "cell_type": "code",
   "execution_count": 53,
   "metadata": {},
   "outputs": [],
   "source": [
    "from functools import reduce\n",
    "\n",
    "# raw input string\n",
    "def read_inputs(filename): \n",
    "    with open(filename) as file: \n",
    "        return file.read().strip()\n",
    "\n",
    "# returns (max row, max col, and points (r,c) mapped to height of tree)\n",
    "def parse(inputs):\n",
    "    result = {}\n",
    "    for r, row in enumerate(inputs.split('\\n')):\n",
    "        for c, col in enumerate(row):\n",
    "            result[(r,c)] = int(col)\n",
    "    return (r,c,result)\n",
    "\n",
    "# trees in 4 directions in order from tree at (row,col)\n",
    "def trees_lines_of_sight(row, col, row_max, col_max, point2height):\n",
    "    left  = reversed([point2height[(row,c)] for c in range(0, col)])\n",
    "    right = [point2height[(row,c)] for c in range(col + 1, col_max + 1)]\n",
    "    up    = reversed([point2height[(r,col)] for r in range(0, row)])\n",
    "    down  = [point2height[(r,col)] for r in range(row + 1, row_max + 1)]\n",
    "    return [left, right, up, down]\n",
    "    \n",
    "# is the tree visible from the out side, ie is there a tree higher before we reachthe edge\n",
    "def tree_is_visible(row, col, row_max, col_max, point2height):\n",
    "    tree_height = point2height[(row,col)]\n",
    "    tloss = trees_lines_of_sight(row, col, row_max, col_max, point2height)\n",
    "    return reduce(lambda acc,v: acc or v, [ max(sl) < tree_height for sl in tloss])\n",
    "\n",
    "def count_of_trees_up_to_heigth(height, tree_heights):\n",
    "    result = 0\n",
    "    for h in tree_heights:\n",
    "        result += 1\n",
    "        if h >= height: break\n",
    "    return result\n",
    "\n",
    "# number of trees in line of sight\n",
    "def scenic_score(row, col, row_max, col_max, point2height):\n",
    "    tree_height = point2height[(row,col)]\n",
    "    tloss = trees_lines_of_sight(row, col, row_max, col_max, point2height)\n",
    "    visible_trees = [count_of_trees_up_to_heigth(tree_height, tree_heights) for tree_heights in tloss]\n",
    "    # print(visible_trees)\n",
    "    # print(reduce(lambda acc,v: acc * v, visible_trees))\n",
    "    return reduce(lambda acc,v: acc * v, visible_trees)\n",
    "    \n",
    "\n",
    "\n",
    "\n",
    "# count number of visible trees: those on the edge plus those with no line of sight \n",
    "def part1(filename):\n",
    "    def tree_is_on_the_edge(r, c, row_max, col_max): \n",
    "        return r == 0 or c == 0 or r == row_max or c == col_max\n",
    "\n",
    "    row_max,col_max,point2height = parse(read_inputs(filename))\n",
    "    visible = [\n",
    "        tree_is_on_the_edge(r,c,row_max,col_max)\n",
    "        or tree_is_visible(r,c,row_max,col_max,point2height)\n",
    "        for r,c in point2height.keys()]\n",
    "\n",
    "    return sum(visible)\n",
    "\n",
    "def part2(filename):\n",
    "    row_max,col_max,point2height = parse(read_inputs(filename))\n",
    "    return max([scenic_score(r,c,row_max,col_max,point2height) for r,c in point2height.keys()])\n",
    "\n"
   ]
  },
  {
   "cell_type": "code",
   "execution_count": 54,
   "metadata": {},
   "outputs": [],
   "source": [
    "#tests\n",
    "row_max,col_max,point2height = parse(read_inputs('../data/Day08-part1.txt'))\n",
    "assert tree_is_visible(1,1,row_max,col_max,point2height) == True, 'top-left 5 is visible'\n",
    "assert tree_is_visible(1,2,row_max,col_max,point2height) == True, 'top-middle 5 is visible'\n",
    "assert tree_is_visible(1,3,row_max,col_max,point2height) == False, 'top-right 1 is not visible'\n",
    "assert tree_is_visible(2,1,row_max,col_max,point2height) == True, 'left-middle 5 is visible'\n",
    "\n",
    "assert part1('../data/Day08-part1.txt') == 21\n",
    "\n",
    "assert scenic_score(1,2,row_max,col_max,point2height) == 4, ''\n",
    "assert scenic_score(3,2,row_max,col_max,point2height) == 8, ''\n",
    "assert part2('../data/Day08-part1.txt') == 8\n"
   ]
  },
  {
   "cell_type": "code",
   "execution_count": 55,
   "metadata": {},
   "outputs": [
    {
     "name": "stdout",
     "output_type": "stream",
     "text": [
      "Part 1: 1669\n",
      "Part 2: 331344\n"
     ]
    }
   ],
   "source": [
    "print(f'Part 1: {part1(\"../data/Day08.txt\")}')\n",
    "print(f'Part 2: {part2(\"../data/Day08.txt\")}')"
   ]
  }
 ],
 "metadata": {
  "kernelspec": {
   "display_name": "Python 3 (ipykernel)",
   "language": "python",
   "name": "python3"
  },
  "language_info": {
   "codemirror_mode": {
    "name": "ipython",
    "version": 3
   },
   "file_extension": ".py",
   "mimetype": "text/x-python",
   "name": "python",
   "nbconvert_exporter": "python",
   "pygments_lexer": "ipython3",
   "version": "3.10.8"
  },
  "orig_nbformat": 4
 },
 "nbformat": 4,
 "nbformat_minor": 2
}
