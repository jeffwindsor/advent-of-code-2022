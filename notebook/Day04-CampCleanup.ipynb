{
 "cells": [
  {
   "attachments": {},
   "cell_type": "markdown",
   "metadata": {},
   "source": [
    "Advent of Code 2022 Day 4 - [Camp Cleanup](https://adventofcode.com/2022/day/4)"
   ]
  },
  {
   "cell_type": "code",
   "execution_count": 16,
   "metadata": {},
   "outputs": [
    {
     "name": "stdout",
     "output_type": "stream",
     "text": [
      "Part 1: 570\n",
      "Part 2: 839\n"
     ]
    }
   ],
   "source": [
    "import re\n",
    "parse    = lambda filename: [re.split('-|,', l.strip()) for l in open(filename).read().splitlines()]\n",
    "contains = lambda a1,a2,b1,b2: (a1 <= b1 and b2 <= a2) or (b1 <= a1 and a2 <= b2)\n",
    "overlaps = lambda a1,a2,b1,b2: (a1 <= b1 <= a2) or (a1 <= b2 <= a2) or (b1 <= a1 <= b2) or (b1 <= a2 <= b2) \n",
    "part1    = lambda inputs: sum([contains(i[0],i[1],i[2],i[3]) for i in inputs])\n",
    "part2    = lambda inputs: sum([overlaps(i[0],i[1],i[2],i[3]) for i in inputs])\n",
    "actuals  = parse('../data/Day04.txt')\n",
    "\n",
    "print(f'Part 1: {part1(actuals)}')\n",
    "print(f'Part 2: {part2(actuals)}')"
   ]
  },
  {
   "cell_type": "code",
   "execution_count": 17,
   "metadata": {},
   "outputs": [],
   "source": [
    "assert contains(1,4,2,3) == True, 'left'\n",
    "assert contains(2,3,1,4) == True, 'right'\n",
    "assert contains(1,4,1,4) == True, 'equal'\n",
    "assert contains(1,4,2,5) == False, 'partial'\n",
    "assert overlaps(2,4,1,2) == True and overlaps(1,2,2,4) == True, 'edge1'\n",
    "assert overlaps(1,4,1,4) == True, 'equal'\n",
    "assert overlaps(1,4,2,3) == True and overlaps(2,3,1,4) == True, 'envelops'\n",
    "assert overlaps(1,2,3,4) == False and overlaps(3,4,1,2) == False, 'outside'"
   ]
  }
 ],
 "metadata": {
  "kernelspec": {
   "display_name": "Python 3 (ipykernel)",
   "language": "python",
   "name": "python3"
  },
  "language_info": {
   "codemirror_mode": {
    "name": "ipython",
    "version": 3
   },
   "file_extension": ".py",
   "mimetype": "text/x-python",
   "name": "python",
   "nbconvert_exporter": "python",
   "pygments_lexer": "ipython3",
   "version": "3.10.8"
  },
  "orig_nbformat": 4
 },
 "nbformat": 4,
 "nbformat_minor": 2
}
