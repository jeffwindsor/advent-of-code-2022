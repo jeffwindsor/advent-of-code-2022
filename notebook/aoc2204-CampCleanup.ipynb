{
 "cells": [
  {
   "cell_type": "markdown",
   "metadata": {},
   "source": [
    "# Advent of Code 2022\n",
    "## Day 4 - Camp Cleanup"
   ]
  },
  {
   "cell_type": "code",
   "execution_count": 48,
   "metadata": {},
   "outputs": [],
   "source": [
    "import re\n",
    "\n",
    "def parse(line): \n",
    "    return re.split('-|,', line.strip())\n",
    "\n",
    "with open('../data/aoc2204.txt') as file:\n",
    "    inputs = [[int(i) for i in parse(l)] \\\n",
    "                      for l in file ]"
   ]
  },
  {
   "cell_type": "markdown",
   "metadata": {},
   "source": [
    "### Part 1 - Count complete overlaps"
   ]
  },
  {
   "cell_type": "code",
   "execution_count": 49,
   "metadata": {},
   "outputs": [],
   "source": [
    "def fullyOverlaps(a1,a2,b1,b2):\n",
    "    return (a1 <= b1 and b2 <= a2) or (b1 <= a1 and a2 <= b2)\n",
    "\n",
    "assert fullyOverlaps(1,4,2,3) == True, 'left'\n",
    "assert fullyOverlaps(2,3,1,4) == True, 'right'\n",
    "assert fullyOverlaps(1,4,1,4) == True, 'equal'\n",
    "assert fullyOverlaps(1,4,2,5) == False, 'partial'\n"
   ]
  },
  {
   "cell_type": "code",
   "execution_count": 50,
   "metadata": {},
   "outputs": [
    {
     "data": {
      "text/plain": [
       "528"
      ]
     },
     "execution_count": 50,
     "metadata": {},
     "output_type": "execute_result"
    }
   ],
   "source": [
    "sum([fullyContains(i[0],i[1],i[2],i[3]) for i in inputs])"
   ]
  },
  {
   "cell_type": "markdown",
   "metadata": {},
   "source": [
    "### Part 2 - count overlaps"
   ]
  },
  {
   "cell_type": "code",
   "execution_count": 51,
   "metadata": {},
   "outputs": [],
   "source": [
    "def overlap(a1,a2,b1,b2):\n",
    "  return (a1 <= b1 <= a2) or (a1 <= b2 <= a2) or (b1 <= a1 <= b2) or (b1 <= a2 <= b2) \n",
    "\n",
    "assert overlap(2,4,1,2) == True and overlap(1,2,2,4) == True, 'edge1'\n",
    "assert overlap(1,4,1,4) == True, 'equal'\n",
    "assert overlap(1,4,2,3) == True and overlap(2,3,1,4) == True, 'envelops'\n",
    "assert overlap(1,2,3,4) == False and overlap(3,4,1,2) == False, 'outside'"
   ]
  },
  {
   "cell_type": "code",
   "execution_count": 52,
   "metadata": {},
   "outputs": [
    {
     "data": {
      "text/plain": [
       "881"
      ]
     },
     "execution_count": 52,
     "metadata": {},
     "output_type": "execute_result"
    }
   ],
   "source": [
    "sum([overlap(i[0],i[1],i[2],i[3]) for i in inputs])"
   ]
  }
 ],
 "metadata": {
  "kernelspec": {
   "display_name": "Python 3 (ipykernel)",
   "language": "python",
   "name": "python3"
  },
  "language_info": {
   "codemirror_mode": {
    "name": "ipython",
    "version": 3
   },
   "file_extension": ".py",
   "mimetype": "text/x-python",
   "name": "python",
   "nbconvert_exporter": "python",
   "pygments_lexer": "ipython3",
   "version": "3.10.8"
  },
  "orig_nbformat": 4
 },
 "nbformat": 4,
 "nbformat_minor": 2
}
