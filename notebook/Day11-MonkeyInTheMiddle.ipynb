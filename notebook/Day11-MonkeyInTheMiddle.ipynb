{
 "cells": [
  {
   "cell_type": "code",
   "execution_count": 49,
   "metadata": {},
   "outputs": [
    {
     "name": "stdout",
     "output_type": "stream",
     "text": [
      "[[20, 23, 27, 26], [2080, 25, 167, 207, 401, 1046], [], []]\n",
      "Part 1: 57348\n",
      "Part 1: 14106266886\n"
     ]
    }
   ],
   "source": [
    "from math import lcm\n",
    "## data #####################################################################################\n",
    "parse_line = lambda l, prefix: l[len(prefix):]\n",
    "def parse_operation_line(l): \n",
    "    operator, operand = parse_line(l,'  Operation: new = old ').split(' ')\n",
    "    match operator:\n",
    "        case \"*\": \n",
    "            if operand == 'old': \n",
    "                return lambda v: v * v\n",
    "            return lambda v: v * int(operand)\n",
    "        case \"+\": \n",
    "            if operand == 'old': \n",
    "                return lambda v: v + v\n",
    "            return lambda v: v + int(operand)\n",
    "#items, operation, test_div_by, test_true, test_false\n",
    "parse_block = lambda ls: [\n",
    "       [int(i) for i in parse_line(ls[1], '  Starting items: ').split(', ')],\n",
    "       parse_operation_line(ls[2]),\n",
    "       int(parse_line(ls[3], '  Test: divisible by ')),\n",
    "       int(parse_line(ls[4], '    If true: throw to monkey ')),\n",
    "       int(parse_line(ls[5], '    If false: throw to monkey ')),\n",
    "       0, # count\n",
    "]\n",
    "parse = lambda filename: [ parse_block(block.splitlines()) for block in open(filename).read().split('\\n\\n')]\n",
    "examples = lambda: parse('../data/Day11-pre.txt')\n",
    "actuals  = lambda: parse('../data/Day11.txt')\n",
    "\n",
    "## functions #####################################################################################\n",
    "worry_relief = lambda w: w//3\n",
    "no_relief = lambda w : w\n",
    "def run_rounds(rounds, worry_adjustment, monkies):\n",
    "    value_lcm = lcm(*[monkey[2] for monkey in monkies])\n",
    "    for r in range(rounds):\n",
    "        for monkey in monkies:\n",
    "            items, inspect, test_modulo, test_true, test_false = monkey[0], monkey[1], monkey[2], monkey[3], monkey[4]\n",
    "\n",
    "            for item in items:\n",
    "                monkey[5] += 1  #increment inspect count\n",
    "                value = worry_adjustment( inspect(item) % value_lcm )\n",
    "                to_monkey = test_true if value % test_modulo == 0 else test_false\n",
    "                monkies[to_monkey][0].append(value)\n",
    "            monkey[0] = [] \n",
    "    return monkies\n",
    "\n",
    "def answer(n, worry_func, monkies):\n",
    "    sorted_count = sorted([ m[5] for m in run_rounds(n, worry_func, monkies)])\n",
    "    return sorted_count[-1] * sorted_count[-2]\n",
    "\n",
    "part1 = lambda ms: answer(20, worry_relief, ms)\n",
    "part2 = lambda ms: answer(10000, no_relief, ms)\n",
    "\n",
    "\n",
    "## tests #####################################################################################\n",
    "#import cProfile\n",
    "#cProfile.run('answer(1000, no_relief, examples())')\n",
    "assert [ m[0] for m in run_rounds( 1, worry_relief, examples())]  == [[20, 23, 27, 26], [2080, 25, 167, 207, 401, 1046], [], []]\n",
    "assert [ m[0] for m in run_rounds(20, worry_relief, examples())]  == [[10, 12, 14, 26, 34], [245, 93, 53, 199, 115], [], []]\n",
    "\n",
    "assert answer(   20, worry_relief, examples()) == 10605\n",
    "assert answer(    1, no_relief,    examples()) == 6 * 4\n",
    "assert answer(   20, no_relief,    examples()) == 103 * 99\n",
    "assert answer( 1000, no_relief,    examples()) == 5192 * 5204\n",
    "assert answer(10000, no_relief,    examples()) == 52166 * 52013\n",
    "\n",
    "## answers #####################################################################################\n",
    "print(f'Part 1: {part1(actuals())}')\n",
    "print(f'Part 1: {part2(actuals())}')\n",
    "\n"
   ]
  }
 ],
 "metadata": {
  "kernelspec": {
   "display_name": "Python 3 (ipykernel)",
   "language": "python",
   "name": "python3"
  },
  "language_info": {
   "codemirror_mode": {
    "name": "ipython",
    "version": 3
   },
   "file_extension": ".py",
   "mimetype": "text/x-python",
   "name": "python",
   "nbconvert_exporter": "python",
   "pygments_lexer": "ipython3",
   "version": "3.10.8"
  },
  "orig_nbformat": 4
 },
 "nbformat": 4,
 "nbformat_minor": 2
}
