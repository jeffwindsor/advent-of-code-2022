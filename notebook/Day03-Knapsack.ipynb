{
 "cells": [
  {
   "cell_type": "markdown",
   "metadata": {},
   "source": [
    "# Advent of Code\n",
    "## Day 3 - Knapsack\n",
    "\n",
    "\n",
    "The Elves have made a list of all of the items currently in each rucksack (your puzzle input). A given rucksack always has the same number of items in each of its two compartments, so the first half of the characters represent items in the first compartment, while the second half of the characters represent items in the second compartment."
   ]
  },
  {
   "cell_type": "code",
   "execution_count": 5,
   "metadata": {
    "vscode": {
     "languageId": "python"
    }
   },
   "outputs": [],
   "source": [
    "with open('../data/Day03.txt') as file:\n",
    "    inputs = [ line.strip() for line in file ]"
   ]
  },
  {
   "cell_type": "code",
   "execution_count": 6,
   "metadata": {
    "vscode": {
     "languageId": "python"
    }
   },
   "outputs": [],
   "source": [
    "def compartments(knapsackInput):\n",
    "    middle = len(knapsackInput) // 2\n",
    "    return (knapsackInput[:middle], knapsackInput[middle:])\n",
    "\n",
    "assert compartments('abcdef')  == ('abc', 'def'), 'Splits even'\n",
    "assert compartments('abcdefg') == ('abc', 'defg'), 'Splits odd'"
   ]
  },
  {
   "cell_type": "markdown",
   "metadata": {},
   "source": [
    "Find the duplicates between compartments of each rucksack"
   ]
  },
  {
   "cell_type": "code",
   "execution_count": 7,
   "metadata": {
    "vscode": {
     "languageId": "python"
    }
   },
   "outputs": [],
   "source": [
    "def duplicatesIn(one,two):\n",
    "    return \"\".join(sorted(list(set(one) & set(two))))\n",
    "\n",
    "assert duplicatesIn('ABcCD','abBcd') == 'Bc', 'dups case dependent'"
   ]
  },
  {
   "cell_type": "markdown",
   "metadata": {},
   "source": [
    "Assign the duplicates a priority value as follows:\n",
    "\n",
    "- Lowercase item types a through z have priorities 1 through 26.\n",
    "- Uppercase item types A through Z have priorities 27 through 52."
   ]
  },
  {
   "cell_type": "code",
   "execution_count": 8,
   "metadata": {
    "vscode": {
     "languageId": "python"
    }
   },
   "outputs": [],
   "source": [
    "# char to ascii A-Z:65-90,a-z:97-122\n",
    "def priority(char):\n",
    "    x = ord(char) \n",
    "    return x - 38 if x < 97 else x - 96\n",
    "\n",
    "def prioritized(duplicates):\n",
    "    return sum(map(priority, duplicates))\n",
    "\n",
    "assert prioritized(\"A\") == 27, 'case dependent scoring:A'\n",
    "assert prioritized(\"Z\") == 52, 'case dependent scoring:Z'\n",
    "assert prioritized(\"a\") == 1, 'case dependent scoring:a'\n",
    "assert prioritized(\"z\") == 26, 'case dependent scoring:z'\n"
   ]
  },
  {
   "cell_type": "markdown",
   "metadata": {},
   "source": [
    "### Part 1 - Common Element between line halves\n",
    "return the sum of all common element priority values"
   ]
  },
  {
   "cell_type": "code",
   "execution_count": 9,
   "metadata": {
    "vscode": {
     "languageId": "python"
    }
   },
   "outputs": [
    {
     "data": {
      "text/plain": [
       "8252"
      ]
     },
     "execution_count": 9,
     "metadata": {},
     "output_type": "execute_result"
    }
   ],
   "source": [
    "def part1(knapsack):\n",
    "    one,two = compartments(knapsack)\n",
    "    return prioritized(duplicatesIn(one,two))\n",
    "\n",
    "sum(map(part1, inputs))"
   ]
  },
  {
   "cell_type": "markdown",
   "metadata": {},
   "source": [
    "### Part 2 - Common Element in Groups of 3\n",
    "return sum of all groups common element priority values"
   ]
  },
  {
   "cell_type": "code",
   "execution_count": 10,
   "metadata": {
    "vscode": {
     "languageId": "python"
    }
   },
   "outputs": [
    {
     "data": {
      "text/plain": [
       "2828"
      ]
     },
     "execution_count": 10,
     "metadata": {},
     "output_type": "execute_result"
    }
   ],
   "source": [
    "def group(items, n):\n",
    "    for i in range(0, len(items), n):\n",
    "        yield items[i:i + n]\n",
    "\n",
    "def duplicatesInTriple(triple):\n",
    "    return duplicatesIn(triple[0], duplicatesIn(triple[1], triple[2]))\n",
    "\n",
    "def part2(triple):\n",
    "    return prioritized(duplicatesInTriple(triple))\n",
    "\n",
    "triples = list(group(inputs,3))\n",
    "sum(map(part2, triples))"
   ]
  }
 ],
 "metadata": {
  "kernelspec": {
   "display_name": "Python 3 (ipykernel)",
   "language": "python",
   "name": "python3"
  },
  "orig_nbformat": 4
 },
 "nbformat": 4,
 "nbformat_minor": 2
}
