{
 "cells": [
  {
   "attachments": {},
   "cell_type": "markdown",
   "metadata": {},
   "source": [
    "Advent of Code Day 3 - [Knapsack](https://adventofcode.com/2022/day/3)"
   ]
  },
  {
   "cell_type": "code",
   "execution_count": 27,
   "metadata": {},
   "outputs": [
    {
     "name": "stdout",
     "output_type": "stream",
     "text": [
      "Part 1: 8252\n",
      "Part 2: 2828\n"
     ]
    }
   ],
   "source": [
    "lines     = lambda fn: open(fn, 'r').read().splitlines()\n",
    "priority  = lambda c: ord(c) - 38 if ord(c) < 97 else ord(c) - 96\n",
    "split_mid = lambda s: [s[:len(s)//2],s[len(s)//2:]]\n",
    "dupes     = lambda ss: ''.join(list(set(ss[0]) & set(ss[1])))\n",
    "flatmap   = lambda f,lss: [f(l) for ls in lss for l in ls]\n",
    "group     = lambda n,ls: [ls[i:i+n] for i in range(0, len(ls), n)]\n",
    "answer    = lambda ss: sum([priority(dupes(s)) for s in ss])\n",
    "\n",
    "part1    = lambda ls: answer([split_mid(l) for l in ls ])\n",
    "part2    = lambda ls: answer([[a, dupes([b,c])] for a,b,c in group(3,ls)])\n",
    "\n",
    "print(f\"Part 1: { part1(lines('../data/Day03.txt')) }\")\n",
    "print(f\"Part 2: { part2(lines('../data/Day03.txt')) }\")\n",
    "\n",
    "###########################################################################\n",
    "# tests\n",
    "# char to ascii A-Z:65-90,a-z:97-122\n",
    "assert priority(\"A\") == 27, 'case dependent scoring:A'\n",
    "assert priority(\"Z\") == 52, 'case dependent scoring:Z'\n",
    "assert priority(\"a\") == 1, 'case dependent scoring:a'\n",
    "assert priority(\"z\") == 26, 'case dependent scoring:z'"
   ]
  },
  {
   "cell_type": "code",
   "execution_count": null,
   "metadata": {},
   "outputs": [],
   "source": [
    "\n"
   ]
  }
 ],
 "metadata": {
  "kernelspec": {
   "display_name": "Python 3 (ipykernel)",
   "language": "python",
   "name": "python3"
  },
  "language_info": {
   "codemirror_mode": {
    "name": "ipython",
    "version": 3
   },
   "file_extension": ".py",
   "mimetype": "text/x-python",
   "name": "python",
   "nbconvert_exporter": "python",
   "pygments_lexer": "ipython3",
   "version": "3.10.8"
  },
  "orig_nbformat": 4
 },
 "nbformat": 4,
 "nbformat_minor": 2
}
