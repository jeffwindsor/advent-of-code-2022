{
 "cells": [
  {
   "cell_type": "markdown",
   "metadata": {},
   "source": [
    "# Advent of Code\n",
    "## [Day 5 - Supply Stacks](https://adventofcode.com/2022/day/5)\n",
    "\n",
    "Start with an input of current stack layout, then a list of moves"
   ]
  },
  {
   "cell_type": "code",
   "execution_count": 13,
   "metadata": {
    "vscode": {
     "languageId": "python"
    }
   },
   "outputs": [],
   "source": [
    "import re\n",
    "\n",
    "def get_inputs(file_name):\n",
    "    with open(file_name) as file:\n",
    "        ss,ms = file.read().split('\\n\\n')\n",
    "    \n",
    "    moves = [[ int(i) \n",
    "                for i in re.split('move | from | to ', m) if i] # strip out verbage and convert to [number to move, from stack, to stack]\n",
    "                for m in ms.split('\\n') ]\n",
    "    stackInputs = [ list(s[1::4])                               # [1::4] start at 1, pull out every 4th character from stack input row\n",
    "                    for s in ss.split('\\n')[:-1]]               # [:-1] drops the last stack row (the indexes)\n",
    "    stacks = [ \"\".join([row[c]                                  # rotate inputs to make a stack string/stack\n",
    "                for row in stackInputs if row[c] != ' ']) \n",
    "                for c in range(len(stackInputs[0]))]\n",
    "    return (moves,stacks)\n",
    "\n",
    "assert get_inputs(\"../data/Day05-pre.txt\") == ([[1,2,1],[3,1,3],[2,2,1],[1,1,2]] ,['NZ', 'DCM', 'P'])\n"
   ]
  },
  {
   "cell_type": "markdown",
   "metadata": {},
   "source": [
    "Move the Containers"
   ]
  },
  {
   "cell_type": "code",
   "execution_count": 14,
   "metadata": {
    "vscode": {
     "languageId": "python"
    }
   },
   "outputs": [],
   "source": [
    "def crate_mover_9000(stack): return stack[::-1]\n",
    "def crate_mover_9001(stack): return stack\n",
    "\n",
    "def move_container(crane, m, stacks):\n",
    "    c,f,t = m[0], m[1] - 1, m[2] - 1            # elves start index at 1, bad elves\n",
    "    stacks[t] = crane(stacks[f][:c]) + stacks[t]\n",
    "    stacks[f] = stacks[f][c:]\n",
    "    return stacks \n",
    "\n",
    "def move_containers(crane,inputs):\n",
    "    moves,stacks = inputs\n",
    "    for move in moves:\n",
    "        move_container(crane,move,stacks)\n",
    "    return stacks\n",
    "\n",
    "def take_top(stacks):\n",
    "    return \"\".join([s[0] for s in stacks])\n",
    "\n",
    "def part1(inputs): \n",
    "    return take_top(move_containers(crate_mover_9000, get_inputs(inputs))) \n",
    "\n",
    "def part2(inputs): \n",
    "    return take_top(move_containers(crate_mover_9001, get_inputs(inputs)))\n",
    "\n",
    "assert crate_mover_9000('ABC') == 'CBA'\n",
    "assert crate_mover_9001('ABC') == 'ABC'\n",
    "assert take_top(['JK','DEF','GHICBA']) == 'JDG'\n",
    "assert move_container(crate_mover_9000, [3,1,3],['ABC','DEF','GHI']) == ['','DEF','CBAGHI']\n",
    "assert move_container(crate_mover_9001, [3,1,3],['ABC','DEF','GHI']) == ['','DEF','ABCGHI']\n",
    "assert part1(\"../data/Day05-pre.txt\") == 'CMZ'\n",
    "assert part2(\"../data/Day05-pre.txt\") == 'MCD'"
   ]
  },
  {
   "cell_type": "markdown",
   "metadata": {},
   "source": [
    "### Answers"
   ]
  },
  {
   "cell_type": "code",
   "execution_count": 15,
   "metadata": {
    "vscode": {
     "languageId": "python"
    }
   },
   "outputs": [
    {
     "name": "stdout",
     "output_type": "stream",
     "text": [
      "Part 1: QMBMJDFTD\n",
      "Part 2: NBTVTJNFJ\n"
     ]
    }
   ],
   "source": [
    "file = \"../data/Day05.txt\"\n",
    "def answer(part,value): print(f'Part {part}: {value}')\n",
    "\n",
    "answer(1,part1(file))\n",
    "answer(2,part2(file))"
   ]
  }
 ],
 "metadata": {
  "kernelspec": {
   "display_name": "Python 3 (ipykernel)",
   "language": "python",
   "name": "python3"
  },
  "orig_nbformat": 4
 },
 "nbformat": 4,
 "nbformat_minor": 2
}
