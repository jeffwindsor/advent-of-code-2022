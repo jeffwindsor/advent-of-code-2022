{
 "cells": [
  {
   "cell_type": "markdown",
   "metadata": {},
   "source": [
    "# Advent of Code 2022\n",
    "## Day 6 - [Tuning Trouble](https://adventofcode.com/2022/day/6)"
   ]
  },
  {
   "cell_type": "code",
   "execution_count": 37,
   "metadata": {
    "vscode": {
     "languageId": "python"
    }
   },
   "outputs": [],
   "source": [
    "def get_inputs(file_name):\n",
    "    with open(file_name) as file:\n",
    "        result = file.read().strip()\n",
    "    return result\n",
    "\n",
    "def find_unique_seq(size,input):\n",
    "    for i in range(size,len(input)):\n",
    "        if len(set(input[i - size:i])) == size: return i"
   ]
  },
  {
   "cell_type": "markdown",
   "metadata": {},
   "source": [
    "\n",
    "Part 1: report the number of characters from the beginning of the buffer to the end of the first four-character sequence containing no duplicates"
   ]
  },
  {
   "cell_type": "code",
   "execution_count": 38,
   "metadata": {
    "vscode": {
     "languageId": "python"
    }
   },
   "outputs": [],
   "source": [
    "def part1(input): return find_unique_seq(4,input)\n",
    "\n",
    "# test cases\n",
    "assert part1('bvwbjplbgvbhsrlpgdmjqwftvncz') == 5\n",
    "assert part1('nppdvjthqldpwncqszvftbrmjlhg') == 6\n",
    "assert part1('nznrnfrfntjfmvfwmzdfjlvtqnbhcprsg') == 10\n",
    "assert part1('zcfzfwzzqfrljwzlrfnpqdbhtmscgvjw') == 11\n",
    "\n",
    "#answer - 1175\n",
    "part1(get_inputs('../data/Day06.txt')) "
   ]
  },
  {
   "cell_type": "markdown",
   "metadata": {},
   "source": [
    "Part 2 - Your device's communication system is correctly detecting packets, but still isn't working. It looks like it also needs to look for messages. A start-of-message marker is just like a start-of-packet marker, except it consists of 14 distinct characters rather than 4."
   ]
  },
  {
   "cell_type": "code",
   "execution_count": 39,
   "metadata": {
    "vscode": {
     "languageId": "python"
    }
   },
   "outputs": [],
   "source": [
    "def part2(input): return find_unique_seq(14,input)\n",
    "\n",
    "assert part2('mjqjpqmgbljsphdztnvjfqwrcgsmlb') ==  19\n",
    "assert part2('bvwbjplbgvbhsrlpgdmjqwftvncz') ==  23\n",
    "assert part2('nppdvjthqldpwncqszvftbrmjlhg') ==  23\n",
    "assert part2('nznrnfrfntjfmvfwmzdfjlvtqnbhcprsg') ==  29\n",
    "assert part2('zcfzfwzzqfrljwzlrfnpqdbhtmscgvjw') ==  26\n",
    "\n",
    "#answer - 3217\n",
    "part2(get_inputs('../data/Day06.txt'))"
   ]
  }
 ],
 "metadata": {
  "kernelspec": {
   "display_name": "Python 3 (ipykernel)",
   "language": "python",
   "name": "python3"
  },
  "orig_nbformat": 4
 },
 "nbformat": 4,
 "nbformat_minor": 2
}
