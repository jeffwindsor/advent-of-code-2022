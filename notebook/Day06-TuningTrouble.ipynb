{
 "cells": [
  {
   "cell_type": "markdown",
   "metadata": {},
   "source": [
    "# Advent of Code 2022\n",
    "## Day 6 - Tuning Trouble"
   ]
  },
  {
   "cell_type": "code",
   "execution_count": 26,
   "metadata": {},
   "outputs": [],
   "source": [
    "def get_inputs(file_name):\n",
    "    with open(file_name) as file:\n",
    "        result = file.read().strip()\n",
    "    return result"
   ]
  },
  {
   "cell_type": "markdown",
   "metadata": {},
   "source": [
    "\n",
    "Part 1: report the number of characters from the beginning of the buffer to the end of the first four-character sequence containing no duplicates"
   ]
  },
  {
   "cell_type": "code",
   "execution_count": 27,
   "metadata": {},
   "outputs": [
    {
     "data": {
      "text/plain": [
       "1175"
      ]
     },
     "execution_count": 27,
     "metadata": {},
     "output_type": "execute_result"
    }
   ],
   "source": [
    "def part1(input):\n",
    "    for i in range(4,len(input)):\n",
    "        #print(i, input[i - 4:i], len(set(input[i - 4:i])))\n",
    "        if len(set(input[i - 4:i])) == 4: return i\n",
    "\n",
    "# test cases\n",
    "assert part1('bvwbjplbgvbhsrlpgdmjqwftvncz') == 5\n",
    "assert part1('nppdvjthqldpwncqszvftbrmjlhg') == 6\n",
    "assert part1('nznrnfrfntjfmvfwmzdfjlvtqnbhcprsg') == 10\n",
    "assert part1('zcfzfwzzqfrljwzlrfnpqdbhtmscgvjw') == 11\n",
    "\n",
    "#answer\n",
    "part1(get_inputs('../data/Day06.txt'))"
   ]
  }
 ],
 "metadata": {
  "kernelspec": {
   "display_name": "Python 3 (ipykernel)",
   "language": "python",
   "name": "python3"
  },
  "language_info": {
   "codemirror_mode": {
    "name": "ipython",
    "version": 3
   },
   "file_extension": ".py",
   "mimetype": "text/x-python",
   "name": "python",
   "nbconvert_exporter": "python",
   "pygments_lexer": "ipython3",
   "version": "3.10.8"
  },
  "orig_nbformat": 4
 },
 "nbformat": 4,
 "nbformat_minor": 2
}
