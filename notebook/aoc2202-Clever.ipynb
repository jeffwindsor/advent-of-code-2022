{
 "cells": [
  {
   "cell_type": "markdown",
   "metadata": {},
   "source": [
    "# Advent of Code 2022\n",
    "\n",
    "## Day 2 - Rock Paper Scissors\n",
    "\n",
    "Opponents Moves in Column 1 : A for Rock, B for Paper, and C for Scissors. The second column, you reason, must be what you should play in response: X for Rock, Y for Paper, and Z for Scissors.\n",
    "\n",
    "Your total score is the sum of your scores for each round. The score for a single round is the score for the shape you selected (1 for Rock, 2 for Paper, and 3 for Scissors) plus the score for the outcome of the round (0 if you lost, 3 if the round was a draw, and 6 if you won).\n"
   ]
  },
  {
   "cell_type": "code",
   "execution_count": 165,
   "metadata": {},
   "outputs": [],
   "source": [
    "def read_data(file):\n",
    "    txt_file = open(f\"../data/{file}\", \"r\")\n",
    "    file_content = txt_file.read()\n",
    "    txt_file.close()\n",
    "    return file_content.split(\"\\n\")\n",
    "\n",
    "inputs = list(map(lambda l: l.split(\" \"), read_data(\"aoc2202.txt\")))\n",
    "\n",
    "# char to int parsers\n",
    "resultFactor = 3\n",
    "def parseAsOpponentMove(move): return ord(move) - 64\n",
    "def parseAsPlayerMove(move): return ord(move) - 87\n",
    "def parseAsResult(result): return (ord(result) - 88) * resultFactor"
   ]
  },
  {
   "cell_type": "markdown",
   "metadata": {},
   "source": [
    "### Part 1 - Find your score\n",
    "What would your total score be if everything goes exactly according to your strategy guide (input values)?"
   ]
  },
  {
   "cell_type": "code",
   "execution_count": 166,
   "metadata": {},
   "outputs": [
    {
     "data": {
      "text/plain": [
       "9241"
      ]
     },
     "execution_count": 166,
     "metadata": {},
     "output_type": "execute_result"
    }
   ],
   "source": [
    "def score(input):\n",
    "    opponentMove, playerMove = parseAsOpponentMove(input[0]), parseAsPlayerMove(input[1])\n",
    "    result = (((playerMove - opponentMove) + 1) % 3) * resultFactor\n",
    "    return playerMove + result\n",
    "\n",
    "sum(map(score, inputs))"
   ]
  },
  {
   "cell_type": "markdown",
   "metadata": {},
   "source": [
    "### Part 2 - Guess your Move\n",
    "\n",
    "The second column really is how the round needs to end: X means you need to lose, Y means you need to end the round in a draw, and Z means you need to win. Scoring works the same"
   ]
  },
  {
   "cell_type": "code",
   "execution_count": 167,
   "metadata": {},
   "outputs": [
    {
     "data": {
      "text/plain": [
       "14610"
      ]
     },
     "execution_count": 167,
     "metadata": {},
     "output_type": "execute_result"
    }
   ],
   "source": [
    "def guess(input):\n",
    "    opponentMove, result = parseAsOpponentMove(input[0]), parseAsResult(input[1])\n",
    "    guess        = ((int(result / resultFactor) - 1) + opponentMove) % 3\n",
    "    playerMove   = guess if guess > 0 else 3\n",
    "    return playerMove + result\n",
    "\n",
    "sum(map(guess, inputs))"
   ]
  }
 ],
 "metadata": {
  "kernelspec": {
   "display_name": "Python 3 (ipykernel)",
   "language": "python",
   "name": "python3"
  },
  "language_info": {
   "codemirror_mode": {
    "name": "ipython",
    "version": 3
   },
   "file_extension": ".py",
   "mimetype": "text/x-python",
   "name": "python",
   "nbconvert_exporter": "python",
   "pygments_lexer": "ipython3",
   "version": "3.10.8"
  },
  "orig_nbformat": 4
 },
 "nbformat": 4,
 "nbformat_minor": 2
}
